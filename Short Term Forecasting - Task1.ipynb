{
 "cells": [
  {
   "cell_type": "code",
   "execution_count": 2,
   "metadata": {},
   "outputs": [],
   "source": [
    "import pandas as pd\n",
    "from matplotlib import pyplot as plt\n",
    "from datetime import datetime"
   ]
  },
  {
   "cell_type": "code",
   "execution_count": null,
   "metadata": {},
   "outputs": [],
   "source": []
  },
  {
   "cell_type": "code",
   "execution_count": 3,
   "metadata": {},
   "outputs": [],
   "source": [
    "# Read CSV data"
   ]
  },
  {
   "cell_type": "code",
   "execution_count": 4,
   "metadata": {},
   "outputs": [],
   "source": [
    "df_house_A_0 = pd.read_csv('HouseA_HW5.csv')\n",
    "df_house_B_0 = pd.read_csv('HouseB_HW5.csv')\n",
    "df_house_C_0 = pd.read_csv('HouseC_HW5.csv')\n",
    "df_house_D_0 = pd.read_csv('HouseD_HW5.csv')"
   ]
  },
  {
   "cell_type": "code",
   "execution_count": 5,
   "metadata": {},
   "outputs": [
    {
     "data": {
      "text/html": [
       "<div>\n",
       "<style scoped>\n",
       "    .dataframe tbody tr th:only-of-type {\n",
       "        vertical-align: middle;\n",
       "    }\n",
       "\n",
       "    .dataframe tbody tr th {\n",
       "        vertical-align: top;\n",
       "    }\n",
       "\n",
       "    .dataframe thead th {\n",
       "        text-align: right;\n",
       "    }\n",
       "</style>\n",
       "<table border=\"1\" class=\"dataframe\">\n",
       "  <thead>\n",
       "    <tr style=\"text-align: right;\">\n",
       "      <th></th>\n",
       "      <th>Date/Time</th>\n",
       "      <th>All</th>\n",
       "    </tr>\n",
       "  </thead>\n",
       "  <tbody>\n",
       "    <tr>\n",
       "      <th>0</th>\n",
       "      <td>01/01  01:00:00</td>\n",
       "      <td>17.540900</td>\n",
       "    </tr>\n",
       "    <tr>\n",
       "      <th>1</th>\n",
       "      <td>01/01  02:00:00</td>\n",
       "      <td>17.092382</td>\n",
       "    </tr>\n",
       "    <tr>\n",
       "      <th>2</th>\n",
       "      <td>01/01  03:00:00</td>\n",
       "      <td>16.768862</td>\n",
       "    </tr>\n",
       "    <tr>\n",
       "      <th>3</th>\n",
       "      <td>01/01  04:00:00</td>\n",
       "      <td>16.972979</td>\n",
       "    </tr>\n",
       "    <tr>\n",
       "      <th>4</th>\n",
       "      <td>01/01  05:00:00</td>\n",
       "      <td>17.180736</td>\n",
       "    </tr>\n",
       "  </tbody>\n",
       "</table>\n",
       "</div>"
      ],
      "text/plain": [
       "          Date/Time        All\n",
       "0   01/01  01:00:00  17.540900\n",
       "1   01/01  02:00:00  17.092382\n",
       "2   01/01  03:00:00  16.768862\n",
       "3   01/01  04:00:00  16.972979\n",
       "4   01/01  05:00:00  17.180736"
      ]
     },
     "execution_count": 5,
     "metadata": {},
     "output_type": "execute_result"
    }
   ],
   "source": [
    "df_house_D_0.head()"
   ]
  },
  {
   "cell_type": "code",
   "execution_count": null,
   "metadata": {},
   "outputs": [],
   "source": []
  },
  {
   "cell_type": "markdown",
   "metadata": {},
   "source": [
    "## Data Preprocessing"
   ]
  },
  {
   "cell_type": "code",
   "execution_count": 6,
   "metadata": {},
   "outputs": [],
   "source": [
    "# Split the Date/Time Column by removing spaces"
   ]
  },
  {
   "cell_type": "code",
   "execution_count": 7,
   "metadata": {},
   "outputs": [],
   "source": [
    "df_house_A_1 = pd.concat([df_house_A_0['Date/Time'].str.split(' ', expand=True),df_house_A_0['Consumption (kW)']], axis=1)\n",
    "df_house_B_1 = pd.concat([df_house_B_0['Date/Time'].str.split(' ', expand=True),df_house_B_0['all']], axis=1)\n",
    "df_house_C_1 = pd.concat([df_house_C_0['Date/Time'].str.split(' ', expand=True),df_house_C_0['all']], axis=1)\n",
    "df_house_D_1 = pd.concat([df_house_D_0['Date/Time'].str.split(' ', expand=True),df_house_D_0['All']], axis=1)"
   ]
  },
  {
   "cell_type": "code",
   "execution_count": null,
   "metadata": {},
   "outputs": [],
   "source": []
  },
  {
   "cell_type": "code",
   "execution_count": 8,
   "metadata": {},
   "outputs": [],
   "source": [
    "# Drop empty columns. Rename the numerical columns and column names with spaces"
   ]
  },
  {
   "cell_type": "code",
   "execution_count": 9,
   "metadata": {},
   "outputs": [],
   "source": [
    "cols = [0,2]\n",
    "\n",
    "# House A\n",
    "df_house_A_1.drop(df_house_A_1.columns[cols],axis=1,inplace=True)\n",
    "df_house_A_1.rename(columns={1: \"Date\", 3:\"Time\", \"Consumption (kW)\": \"consumption_kw_A\"},inplace=True)\n",
    "\n",
    "# House B\n",
    "df_house_B_1.drop(df_house_B_1.columns[cols],axis=1,inplace=True)\n",
    "df_house_B_1.rename(columns={1: \"Date\", 3:\"Time\", \"all\": \"consumption_kw_B\"},inplace=True)\n",
    "\n",
    "# House C\n",
    "df_house_C_1.drop(df_house_C_1.columns[cols],axis=1,inplace=True)\n",
    "df_house_C_1.rename(columns={1: \"Date\", 3:\"Time\", \"all\": \"consumption_kw_C\"},inplace=True)\n",
    "\n",
    "# House D\n",
    "df_house_D_1.drop(df_house_D_1.columns[cols],axis=1,inplace=True)\n",
    "df_house_D_1.rename(columns={1: \"Date\", 3:\"Time\", \"All\": \"consumption_kw_D\"},inplace=True)"
   ]
  },
  {
   "cell_type": "code",
   "execution_count": null,
   "metadata": {},
   "outputs": [],
   "source": []
  },
  {
   "cell_type": "code",
   "execution_count": 10,
   "metadata": {},
   "outputs": [],
   "source": [
    "# Split columns with / and add the year"
   ]
  },
  {
   "cell_type": "code",
   "execution_count": 11,
   "metadata": {},
   "outputs": [],
   "source": [
    "# House A\n",
    "df_house_A_2 = pd.concat([df_house_A_1['Date'].str.split('/', expand=True),df_house_A_1['Time'],\n",
    "                          df_house_A_1['consumption_kw_A']], axis=1)\n",
    "df_house_A_2.rename(columns={0: \"Month\", 1:\"Day\"},inplace=True)\n",
    "df_house_A_2[\"Year\"] = 2021\n",
    "\n",
    "# House B\n",
    "df_house_B_2 = pd.concat([df_house_B_1['Date'].str.split('/', expand=True),df_house_B_1['Time'], \n",
    "                          df_house_B_1['consumption_kw_B']], axis=1)\n",
    "df_house_B_2.rename(columns={0: \"Month\", 1:\"Day\"},inplace=True)\n",
    "df_house_B_2[\"Year\"] = 2021\n",
    "\n",
    "# House C\n",
    "df_house_C_2 = pd.concat([df_house_C_1['Date'].str.split('/', expand=True),df_house_C_1['Time'], \n",
    "                          df_house_C_1['consumption_kw_C']], axis=1)\n",
    "df_house_C_2.rename(columns={0: \"Month\", 1:\"Day\"},inplace=True)\n",
    "df_house_C_2[\"Year\"] = 2021\n",
    "\n",
    "# House D\n",
    "df_house_D_2 = pd.concat([df_house_D_1['Date'].str.split('/', expand=True),df_house_D_1['Time'], \n",
    "                          df_house_D_1['consumption_kw_D']], axis=1)\n",
    "df_house_D_2.rename(columns={0: \"Month\", 1:\"Day\"},inplace=True)\n",
    "df_house_D_2[\"Year\"] = 2021"
   ]
  },
  {
   "cell_type": "code",
   "execution_count": null,
   "metadata": {},
   "outputs": [],
   "source": []
  },
  {
   "cell_type": "code",
   "execution_count": 12,
   "metadata": {},
   "outputs": [],
   "source": [
    "# Create date_time column with the format \"YYYYY-MM-DD HH:MM:ss\" and date change 24:00:00 into 00:00:00"
   ]
  },
  {
   "cell_type": "code",
   "execution_count": 13,
   "metadata": {},
   "outputs": [],
   "source": [
    "cols=[\"Year\",\"Month\",\"Day\"]\n",
    "\n",
    "# House A\n",
    "df_house_A_2['date_1'] = df_house_A_2[cols].apply(lambda x: '-'.join(x.values.astype(str)), axis=\"columns\")\n",
    "df_house_A_2['date_1'] = pd.to_datetime(df_house_A_2['date_1'])\n",
    "df_house_A_2['date_time'] = pd.to_datetime(df_house_A_2.date_1) + pd.to_timedelta(df_house_A_2.Time, unit='h')\n",
    "\n",
    "# House B\n",
    "df_house_B_2['date_1'] = df_house_B_2[cols].apply(lambda x: '-'.join(x.values.astype(str)), axis=\"columns\")\n",
    "df_house_B_2['date_1'] = pd.to_datetime(df_house_B_2['date_1'])\n",
    "df_house_B_2['date_time'] = pd.to_datetime(df_house_B_2.date_1) + pd.to_timedelta(df_house_B_2.Time, unit='h')\n",
    "\n",
    "# House C\n",
    "df_house_C_2['date_1'] = df_house_C_2[cols].apply(lambda x: '-'.join(x.values.astype(str)), axis=\"columns\")\n",
    "df_house_C_2['date_1'] = pd.to_datetime(df_house_C_2['date_1'])\n",
    "df_house_C_2['date_time'] = pd.to_datetime(df_house_C_2.date_1) + pd.to_timedelta(df_house_C_2.Time, unit='h')\n",
    "\n",
    "# House D\n",
    "df_house_D_2['date_1'] = df_house_D_2[cols].apply(lambda x: '-'.join(x.values.astype(str)), axis=\"columns\")\n",
    "df_house_D_2['date_1'] = pd.to_datetime(df_house_D_2['date_1'])\n",
    "df_house_D_2['date_time'] = pd.to_datetime(df_house_D_2.date_1) + pd.to_timedelta(df_house_D_2.Time, unit='h')"
   ]
  },
  {
   "cell_type": "code",
   "execution_count": null,
   "metadata": {},
   "outputs": [],
   "source": []
  },
  {
   "cell_type": "code",
   "execution_count": 14,
   "metadata": {},
   "outputs": [],
   "source": [
    "# Get the final columns needed to model"
   ]
  },
  {
   "cell_type": "code",
   "execution_count": 15,
   "metadata": {},
   "outputs": [],
   "source": [
    "df_house_A_clean = df_house_A_2[['date_time', 'consumption_kw_A']]\n",
    "df_house_B_clean = df_house_B_2[['date_time', 'consumption_kw_B']]\n",
    "df_house_C_clean = df_house_C_2[['date_time', 'consumption_kw_C']]\n",
    "df_house_D_clean = df_house_D_2[['date_time', 'consumption_kw_D']]"
   ]
  },
  {
   "cell_type": "code",
   "execution_count": null,
   "metadata": {},
   "outputs": [],
   "source": []
  },
  {
   "cell_type": "code",
   "execution_count": null,
   "metadata": {},
   "outputs": [],
   "source": []
  },
  {
   "cell_type": "code",
   "execution_count": 16,
   "metadata": {},
   "outputs": [],
   "source": [
    "df_house_all_clean = df_house_B_clean.merge(df_house_C_clean, on='date_time', how='left')\\\n",
    "                                    .merge(df_house_D_clean, on='date_time', how='left')\\\n",
    "                                    .merge(df_house_A_clean, on='date_time', how='left')"
   ]
  },
  {
   "cell_type": "code",
   "execution_count": 17,
   "metadata": {},
   "outputs": [],
   "source": [
    "df_house_all_clean = df_house_all_clean [['date_time', 'consumption_kw_A', 'consumption_kw_B',\\\n",
    "                                          'consumption_kw_C', 'consumption_kw_D']]          "
   ]
  },
  {
   "cell_type": "code",
   "execution_count": 18,
   "metadata": {},
   "outputs": [
    {
     "data": {
      "text/html": [
       "<div>\n",
       "<style scoped>\n",
       "    .dataframe tbody tr th:only-of-type {\n",
       "        vertical-align: middle;\n",
       "    }\n",
       "\n",
       "    .dataframe tbody tr th {\n",
       "        vertical-align: top;\n",
       "    }\n",
       "\n",
       "    .dataframe thead th {\n",
       "        text-align: right;\n",
       "    }\n",
       "</style>\n",
       "<table border=\"1\" class=\"dataframe\">\n",
       "  <thead>\n",
       "    <tr style=\"text-align: right;\">\n",
       "      <th></th>\n",
       "      <th>date_time</th>\n",
       "      <th>consumption_kw_A</th>\n",
       "      <th>consumption_kw_B</th>\n",
       "      <th>consumption_kw_C</th>\n",
       "      <th>consumption_kw_D</th>\n",
       "    </tr>\n",
       "  </thead>\n",
       "  <tbody>\n",
       "    <tr>\n",
       "      <th>0</th>\n",
       "      <td>2021-01-01 01:00:00</td>\n",
       "      <td>NaN</td>\n",
       "      <td>40.793727</td>\n",
       "      <td>31.905699</td>\n",
       "      <td>17.540900</td>\n",
       "    </tr>\n",
       "    <tr>\n",
       "      <th>1</th>\n",
       "      <td>2021-01-01 02:00:00</td>\n",
       "      <td>NaN</td>\n",
       "      <td>41.837084</td>\n",
       "      <td>33.507795</td>\n",
       "      <td>17.092382</td>\n",
       "    </tr>\n",
       "    <tr>\n",
       "      <th>2</th>\n",
       "      <td>2021-01-01 03:00:00</td>\n",
       "      <td>NaN</td>\n",
       "      <td>41.642094</td>\n",
       "      <td>33.627417</td>\n",
       "      <td>16.768862</td>\n",
       "    </tr>\n",
       "    <tr>\n",
       "      <th>3</th>\n",
       "      <td>2021-01-01 04:00:00</td>\n",
       "      <td>NaN</td>\n",
       "      <td>42.812967</td>\n",
       "      <td>35.474427</td>\n",
       "      <td>16.972979</td>\n",
       "    </tr>\n",
       "    <tr>\n",
       "      <th>4</th>\n",
       "      <td>2021-01-01 05:00:00</td>\n",
       "      <td>NaN</td>\n",
       "      <td>44.793965</td>\n",
       "      <td>35.959651</td>\n",
       "      <td>17.180736</td>\n",
       "    </tr>\n",
       "    <tr>\n",
       "      <th>...</th>\n",
       "      <td>...</td>\n",
       "      <td>...</td>\n",
       "      <td>...</td>\n",
       "      <td>...</td>\n",
       "      <td>...</td>\n",
       "    </tr>\n",
       "    <tr>\n",
       "      <th>8011</th>\n",
       "      <td>2021-11-30 20:00:00</td>\n",
       "      <td>19.806196</td>\n",
       "      <td>26.424780</td>\n",
       "      <td>11.941523</td>\n",
       "      <td>11.588644</td>\n",
       "    </tr>\n",
       "    <tr>\n",
       "      <th>8012</th>\n",
       "      <td>2021-11-30 21:00:00</td>\n",
       "      <td>19.912400</td>\n",
       "      <td>26.270907</td>\n",
       "      <td>12.091889</td>\n",
       "      <td>12.336184</td>\n",
       "    </tr>\n",
       "    <tr>\n",
       "      <th>8013</th>\n",
       "      <td>2021-11-30 22:00:00</td>\n",
       "      <td>20.801582</td>\n",
       "      <td>25.880839</td>\n",
       "      <td>13.430376</td>\n",
       "      <td>13.060969</td>\n",
       "    </tr>\n",
       "    <tr>\n",
       "      <th>8014</th>\n",
       "      <td>2021-11-30 23:00:00</td>\n",
       "      <td>21.512624</td>\n",
       "      <td>25.476308</td>\n",
       "      <td>14.736651</td>\n",
       "      <td>13.687397</td>\n",
       "    </tr>\n",
       "    <tr>\n",
       "      <th>8015</th>\n",
       "      <td>2021-12-01 00:00:00</td>\n",
       "      <td>22.492288</td>\n",
       "      <td>25.288604</td>\n",
       "      <td>16.468496</td>\n",
       "      <td>14.460527</td>\n",
       "    </tr>\n",
       "  </tbody>\n",
       "</table>\n",
       "<p>8016 rows × 5 columns</p>\n",
       "</div>"
      ],
      "text/plain": [
       "               date_time  consumption_kw_A  consumption_kw_B  \\\n",
       "0    2021-01-01 01:00:00               NaN         40.793727   \n",
       "1    2021-01-01 02:00:00               NaN         41.837084   \n",
       "2    2021-01-01 03:00:00               NaN         41.642094   \n",
       "3    2021-01-01 04:00:00               NaN         42.812967   \n",
       "4    2021-01-01 05:00:00               NaN         44.793965   \n",
       "...                  ...               ...               ...   \n",
       "8011 2021-11-30 20:00:00         19.806196         26.424780   \n",
       "8012 2021-11-30 21:00:00         19.912400         26.270907   \n",
       "8013 2021-11-30 22:00:00         20.801582         25.880839   \n",
       "8014 2021-11-30 23:00:00         21.512624         25.476308   \n",
       "8015 2021-12-01 00:00:00         22.492288         25.288604   \n",
       "\n",
       "      consumption_kw_C  consumption_kw_D  \n",
       "0            31.905699         17.540900  \n",
       "1            33.507795         17.092382  \n",
       "2            33.627417         16.768862  \n",
       "3            35.474427         16.972979  \n",
       "4            35.959651         17.180736  \n",
       "...                ...               ...  \n",
       "8011         11.941523         11.588644  \n",
       "8012         12.091889         12.336184  \n",
       "8013         13.430376         13.060969  \n",
       "8014         14.736651         13.687397  \n",
       "8015         16.468496         14.460527  \n",
       "\n",
       "[8016 rows x 5 columns]"
      ]
     },
     "execution_count": 18,
     "metadata": {},
     "output_type": "execute_result"
    }
   ],
   "source": [
    "df_house_all_clean"
   ]
  },
  {
   "cell_type": "code",
   "execution_count": 19,
   "metadata": {},
   "outputs": [],
   "source": [
    "df_house_all_clean['consumption_kw_avg'] = df_house_all_clean.mean(axis=1)"
   ]
  },
  {
   "cell_type": "code",
   "execution_count": 20,
   "metadata": {},
   "outputs": [
    {
     "data": {
      "text/html": [
       "<div>\n",
       "<style scoped>\n",
       "    .dataframe tbody tr th:only-of-type {\n",
       "        vertical-align: middle;\n",
       "    }\n",
       "\n",
       "    .dataframe tbody tr th {\n",
       "        vertical-align: top;\n",
       "    }\n",
       "\n",
       "    .dataframe thead th {\n",
       "        text-align: right;\n",
       "    }\n",
       "</style>\n",
       "<table border=\"1\" class=\"dataframe\">\n",
       "  <thead>\n",
       "    <tr style=\"text-align: right;\">\n",
       "      <th></th>\n",
       "      <th>date_time</th>\n",
       "      <th>consumption_kw_A</th>\n",
       "      <th>consumption_kw_B</th>\n",
       "      <th>consumption_kw_C</th>\n",
       "      <th>consumption_kw_D</th>\n",
       "      <th>consumption_kw_avg</th>\n",
       "    </tr>\n",
       "  </thead>\n",
       "  <tbody>\n",
       "    <tr>\n",
       "      <th>0</th>\n",
       "      <td>2021-01-01 01:00:00</td>\n",
       "      <td>NaN</td>\n",
       "      <td>40.793727</td>\n",
       "      <td>31.905699</td>\n",
       "      <td>17.540900</td>\n",
       "      <td>30.080108</td>\n",
       "    </tr>\n",
       "    <tr>\n",
       "      <th>1</th>\n",
       "      <td>2021-01-01 02:00:00</td>\n",
       "      <td>NaN</td>\n",
       "      <td>41.837084</td>\n",
       "      <td>33.507795</td>\n",
       "      <td>17.092382</td>\n",
       "      <td>30.812420</td>\n",
       "    </tr>\n",
       "    <tr>\n",
       "      <th>2</th>\n",
       "      <td>2021-01-01 03:00:00</td>\n",
       "      <td>NaN</td>\n",
       "      <td>41.642094</td>\n",
       "      <td>33.627417</td>\n",
       "      <td>16.768862</td>\n",
       "      <td>30.679458</td>\n",
       "    </tr>\n",
       "    <tr>\n",
       "      <th>3</th>\n",
       "      <td>2021-01-01 04:00:00</td>\n",
       "      <td>NaN</td>\n",
       "      <td>42.812967</td>\n",
       "      <td>35.474427</td>\n",
       "      <td>16.972979</td>\n",
       "      <td>31.753458</td>\n",
       "    </tr>\n",
       "    <tr>\n",
       "      <th>4</th>\n",
       "      <td>2021-01-01 05:00:00</td>\n",
       "      <td>NaN</td>\n",
       "      <td>44.793965</td>\n",
       "      <td>35.959651</td>\n",
       "      <td>17.180736</td>\n",
       "      <td>32.644784</td>\n",
       "    </tr>\n",
       "  </tbody>\n",
       "</table>\n",
       "</div>"
      ],
      "text/plain": [
       "            date_time  consumption_kw_A  consumption_kw_B  consumption_kw_C  \\\n",
       "0 2021-01-01 01:00:00               NaN         40.793727         31.905699   \n",
       "1 2021-01-01 02:00:00               NaN         41.837084         33.507795   \n",
       "2 2021-01-01 03:00:00               NaN         41.642094         33.627417   \n",
       "3 2021-01-01 04:00:00               NaN         42.812967         35.474427   \n",
       "4 2021-01-01 05:00:00               NaN         44.793965         35.959651   \n",
       "\n",
       "   consumption_kw_D  consumption_kw_avg  \n",
       "0         17.540900           30.080108  \n",
       "1         17.092382           30.812420  \n",
       "2         16.768862           30.679458  \n",
       "3         16.972979           31.753458  \n",
       "4         17.180736           32.644784  "
      ]
     },
     "execution_count": 20,
     "metadata": {},
     "output_type": "execute_result"
    }
   ],
   "source": [
    "df_house_all_clean.head()"
   ]
  },
  {
   "cell_type": "markdown",
   "metadata": {},
   "source": [
    "# Task 1"
   ]
  },
  {
   "cell_type": "code",
   "execution_count": null,
   "metadata": {},
   "outputs": [],
   "source": []
  },
  {
   "cell_type": "markdown",
   "metadata": {},
   "source": [
    "### Training and Testing Set Split"
   ]
  },
  {
   "cell_type": "code",
   "execution_count": 20,
   "metadata": {},
   "outputs": [],
   "source": [
    "break_date = \"2021-12-01 00\""
   ]
  },
  {
   "cell_type": "code",
   "execution_count": 21,
   "metadata": {},
   "outputs": [],
   "source": [
    "df_house_A_train = df_house_A_clean[df_house_A_clean[\"date_time\"] <= break_date]\n",
    "df_house_A_test = df_house_A_clean[df_house_A_clean[\"date_time\"] > break_date]"
   ]
  },
  {
   "cell_type": "code",
   "execution_count": null,
   "metadata": {},
   "outputs": [],
   "source": []
  },
  {
   "cell_type": "code",
   "execution_count": null,
   "metadata": {},
   "outputs": [],
   "source": []
  },
  {
   "cell_type": "markdown",
   "metadata": {},
   "source": [
    "## T1.1 Deep Feed-Forward Neural Network"
   ]
  },
  {
   "cell_type": "code",
   "execution_count": null,
   "metadata": {},
   "outputs": [],
   "source": []
  },
  {
   "cell_type": "markdown",
   "metadata": {},
   "source": [
    "### Training Data Preparation"
   ]
  },
  {
   "cell_type": "code",
   "execution_count": 22,
   "metadata": {},
   "outputs": [],
   "source": [
    "from numpy import array"
   ]
  },
  {
   "cell_type": "code",
   "execution_count": null,
   "metadata": {},
   "outputs": [],
   "source": []
  },
  {
   "cell_type": "code",
   "execution_count": 23,
   "metadata": {},
   "outputs": [],
   "source": [
    "# Split a univariate sequence into samples"
   ]
  },
  {
   "cell_type": "code",
   "execution_count": 24,
   "metadata": {},
   "outputs": [],
   "source": [
    "def split_sequence(sequence, n_steps):\n",
    "    X, y = list(), list()\n",
    "    for i in range(len(sequence)):\n",
    "        # find the end of this pattern\n",
    "        end_ix = i + n_steps\n",
    "        # check if we are beyond the sequence\n",
    "        if end_ix > len(sequence)-1:\n",
    "            break\n",
    "        # gather input and output parts of the pattern\n",
    "        seq_x, seq_y = sequence[i:end_ix], sequence[end_ix]\n",
    "        X.append(seq_x)\n",
    "        y.append(seq_y)\n",
    "    return array(X), array(y)"
   ]
  },
  {
   "cell_type": "code",
   "execution_count": null,
   "metadata": {},
   "outputs": [],
   "source": []
  },
  {
   "cell_type": "code",
   "execution_count": 25,
   "metadata": {},
   "outputs": [],
   "source": [
    "# Define the input sequence"
   ]
  },
  {
   "cell_type": "code",
   "execution_count": 26,
   "metadata": {},
   "outputs": [],
   "source": [
    "train = df_house_A_train['consumption_kw_A']"
   ]
  },
  {
   "cell_type": "code",
   "execution_count": null,
   "metadata": {},
   "outputs": [],
   "source": []
  },
  {
   "cell_type": "code",
   "execution_count": 27,
   "metadata": {},
   "outputs": [],
   "source": [
    "# Choose a number of time steps"
   ]
  },
  {
   "cell_type": "code",
   "execution_count": 28,
   "metadata": {},
   "outputs": [],
   "source": [
    "n_steps = 4"
   ]
  },
  {
   "cell_type": "code",
   "execution_count": null,
   "metadata": {},
   "outputs": [],
   "source": []
  },
  {
   "cell_type": "code",
   "execution_count": 29,
   "metadata": {},
   "outputs": [],
   "source": [
    "# Split into samples"
   ]
  },
  {
   "cell_type": "code",
   "execution_count": 30,
   "metadata": {},
   "outputs": [
    {
     "name": "stdout",
     "output_type": "stream",
     "text": [
      "44 44\n"
     ]
    }
   ],
   "source": [
    "X, y = split_sequence(train, n_steps)\n",
    "print(len(X), len(y))"
   ]
  },
  {
   "cell_type": "code",
   "execution_count": 31,
   "metadata": {},
   "outputs": [
    {
     "data": {
      "text/plain": [
       "((44, 4), (44,))"
      ]
     },
     "execution_count": 31,
     "metadata": {},
     "output_type": "execute_result"
    }
   ],
   "source": [
    "X.shape, y.shape"
   ]
  },
  {
   "cell_type": "code",
   "execution_count": 32,
   "metadata": {},
   "outputs": [],
   "source": [
    "# Summarize the data"
   ]
  },
  {
   "cell_type": "code",
   "execution_count": 33,
   "metadata": {},
   "outputs": [
    {
     "name": "stdout",
     "output_type": "stream",
     "text": [
      "[25.83881937 24.27811542 23.92877239 24.0758738 ] 23.86552268\n",
      "[24.27811542 23.92877239 24.0758738  23.86552268] 24.1825029\n",
      "[23.92877239 24.0758738  23.86552268 24.1825029 ] 25.70501706\n",
      "[24.0758738  23.86552268 24.1825029  25.70501706] 27.9187152\n",
      "[23.86552268 24.1825029  25.70501706 27.9187152 ] 26.47251872\n",
      "[24.1825029  25.70501706 27.9187152  26.47251872] 24.47981345\n",
      "[25.70501706 27.9187152  26.47251872 24.47981345] 25.53278056\n",
      "[27.9187152  26.47251872 24.47981345 25.53278056] 22.94586519\n",
      "[26.47251872 24.47981345 25.53278056 22.94586519] 22.22066915\n",
      "[24.47981345 25.53278056 22.94586519 22.22066915] 21.19769214\n",
      "[25.53278056 22.94586519 22.22066915 21.19769214] 20.37997356\n",
      "[22.94586519 22.22066915 21.19769214 20.37997356] 19.93592864\n",
      "[22.22066915 21.19769214 20.37997356 19.93592864] 21.7514295\n",
      "[21.19769214 20.37997356 19.93592864 21.7514295 ] 25.41853073\n",
      "[20.37997356 19.93592864 21.7514295  25.41853073] 24.42722472\n",
      "[19.93592864 21.7514295  25.41853073 24.42722472] 25.85604072\n",
      "[21.7514295  25.41853073 24.42722472 25.85604072] 26.61674073\n",
      "[25.41853073 24.42722472 25.85604072 26.61674073] 26.87127652\n",
      "[24.42722472 25.85604072 26.61674073 26.87127652] 26.56358581\n",
      "[25.85604072 26.61674073 26.87127652 26.56358581] 26.28860555\n",
      "[26.61674073 26.87127652 26.56358581 26.28860555] 26.01725412\n",
      "[26.87127652 26.56358581 26.28860555 26.01725412] 26.96750203\n",
      "[26.56358581 26.28860555 26.01725412 26.96750203] 26.50396117\n",
      "[26.28860555 26.01725412 26.96750203 26.50396117] 25.25877664\n",
      "[26.01725412 26.96750203 26.50396117 25.25877664] 25.36669807\n",
      "[26.96750203 26.50396117 25.25877664 25.36669807] 25.44735798\n",
      "[26.50396117 25.25877664 25.36669807 25.44735798] 25.92500243\n",
      "[25.25877664 25.36669807 25.44735798 25.92500243] 28.05719059\n",
      "[25.36669807 25.44735798 25.92500243 28.05719059] 23.66988808\n",
      "[25.44735798 25.92500243 28.05719059 23.66988808] 22.32077214\n",
      "[25.92500243 28.05719059 23.66988808 22.32077214] 20.54027702\n",
      "[28.05719059 23.66988808 22.32077214 20.54027702] 18.78684164\n",
      "[23.66988808 22.32077214 20.54027702 18.78684164] 16.89380057\n",
      "[22.32077214 20.54027702 18.78684164 16.89380057] 14.1555688\n",
      "[20.54027702 18.78684164 16.89380057 14.1555688 ] 12.85704563\n",
      "[18.78684164 16.89380057 14.1555688  12.85704563] 13.79830103\n",
      "[16.89380057 14.1555688  12.85704563 13.79830103] 15.34725387\n",
      "[14.1555688  12.85704563 13.79830103 15.34725387] 18.56425146\n",
      "[12.85704563 13.79830103 15.34725387 18.56425146] 19.03011678\n",
      "[13.79830103 15.34725387 18.56425146 19.03011678] 19.80619614\n",
      "[15.34725387 18.56425146 19.03011678 19.80619614] 19.91239953\n",
      "[18.56425146 19.03011678 19.80619614 19.91239953] 20.80158158\n",
      "[19.03011678 19.80619614 19.91239953 20.80158158] 21.512624300000002\n",
      "[19.80619614 19.91239953 20.80158158 21.5126243 ] 22.49228808\n"
     ]
    }
   ],
   "source": [
    "for i in range(len(X)):\n",
    "    print(X[i], y[i])"
   ]
  },
  {
   "cell_type": "code",
   "execution_count": 34,
   "metadata": {},
   "outputs": [
    {
     "data": {
      "text/plain": [
       "(44,)"
      ]
     },
     "execution_count": 34,
     "metadata": {},
     "output_type": "execute_result"
    }
   ],
   "source": [
    "y.shape"
   ]
  },
  {
   "cell_type": "code",
   "execution_count": null,
   "metadata": {},
   "outputs": [],
   "source": []
  },
  {
   "cell_type": "markdown",
   "metadata": {},
   "source": [
    "### Model Training"
   ]
  },
  {
   "cell_type": "code",
   "execution_count": 35,
   "metadata": {},
   "outputs": [],
   "source": [
    "from tensorflow import keras\n",
    "from keras.models import Sequential\n",
    "from keras import Input\n",
    "from keras.layers import Dense, Flatten"
   ]
  },
  {
   "cell_type": "code",
   "execution_count": null,
   "metadata": {},
   "outputs": [],
   "source": []
  },
  {
   "cell_type": "code",
   "execution_count": 36,
   "metadata": {},
   "outputs": [],
   "source": [
    "model = Sequential()\n",
    "model.add(Flatten(input_shape=(n_steps, 1), name='Input-Layer'))\n",
    "model.add(Dense(2, activation='relu', name='Hidden-Layer')) #4, 6, 8, 10\n",
    "model.add(Dense(1, name='Output-Layer'))\n",
    "model.compile(optimizer='adam', loss='mse')"
   ]
  },
  {
   "cell_type": "code",
   "execution_count": 37,
   "metadata": {},
   "outputs": [
    {
     "name": "stdout",
     "output_type": "stream",
     "text": [
      "Model: \"sequential\"\n",
      "_________________________________________________________________\n",
      "Layer (type)                 Output Shape              Param #   \n",
      "=================================================================\n",
      "Input-Layer (Flatten)        (None, 4)                 0         \n",
      "_________________________________________________________________\n",
      "Hidden-Layer (Dense)         (None, 2)                 10        \n",
      "_________________________________________________________________\n",
      "Output-Layer (Dense)         (None, 1)                 3         \n",
      "=================================================================\n",
      "Total params: 13\n",
      "Trainable params: 13\n",
      "Non-trainable params: 0\n",
      "_________________________________________________________________\n"
     ]
    }
   ],
   "source": [
    "model.summary()"
   ]
  },
  {
   "cell_type": "code",
   "execution_count": 38,
   "metadata": {},
   "outputs": [
    {
     "data": {
      "text/plain": [
       "<keras.callbacks.History at 0x21e0d199f70>"
      ]
     },
     "execution_count": 38,
     "metadata": {},
     "output_type": "execute_result"
    }
   ],
   "source": [
    "model.fit(X, y, epochs=50, verbose=0)"
   ]
  },
  {
   "cell_type": "code",
   "execution_count": null,
   "metadata": {},
   "outputs": [],
   "source": []
  },
  {
   "cell_type": "markdown",
   "metadata": {},
   "source": [
    "### Test Data Set Treatment"
   ]
  },
  {
   "cell_type": "code",
   "execution_count": 39,
   "metadata": {},
   "outputs": [],
   "source": [
    "# Choose a number of time steps"
   ]
  },
  {
   "cell_type": "code",
   "execution_count": 40,
   "metadata": {},
   "outputs": [],
   "source": [
    "n_steps = 4"
   ]
  },
  {
   "cell_type": "code",
   "execution_count": null,
   "metadata": {},
   "outputs": [],
   "source": []
  },
  {
   "cell_type": "code",
   "execution_count": 41,
   "metadata": {},
   "outputs": [],
   "source": [
    "# Test Set with Lag created to get the X_test to predict in the model"
   ]
  },
  {
   "cell_type": "code",
   "execution_count": 42,
   "metadata": {},
   "outputs": [],
   "source": [
    "test_set_with_lag = df_house_A_train.iloc[-n_steps:].append(df_house_A_test, ignore_index = True)\n",
    "test_set_with_lag = test_set_with_lag['consumption_kw_A']\n",
    "test_set_with_lag = test_set_with_lag.reset_index()\n",
    "test_set_with_lag.drop(test_set_with_lag.columns[0],axis=1,inplace=True)\n",
    "test_set_with_lag = test_set_with_lag.squeeze()"
   ]
  },
  {
   "cell_type": "code",
   "execution_count": 43,
   "metadata": {},
   "outputs": [
    {
     "data": {
      "text/plain": [
       "(748,)"
      ]
     },
     "execution_count": 43,
     "metadata": {},
     "output_type": "execute_result"
    }
   ],
   "source": [
    "test_set_with_lag.shape"
   ]
  },
  {
   "cell_type": "code",
   "execution_count": null,
   "metadata": {},
   "outputs": [],
   "source": []
  },
  {
   "cell_type": "code",
   "execution_count": 44,
   "metadata": {},
   "outputs": [],
   "source": [
    "# Split into samples"
   ]
  },
  {
   "cell_type": "code",
   "execution_count": 45,
   "metadata": {},
   "outputs": [],
   "source": [
    "X_test, y_test = split_sequence(test_set_with_lag, n_steps)"
   ]
  },
  {
   "cell_type": "code",
   "execution_count": 46,
   "metadata": {},
   "outputs": [
    {
     "name": "stdout",
     "output_type": "stream",
     "text": [
      "744 744\n"
     ]
    }
   ],
   "source": [
    "print(len(X_test), len(y_test))"
   ]
  },
  {
   "cell_type": "code",
   "execution_count": null,
   "metadata": {},
   "outputs": [],
   "source": []
  },
  {
   "cell_type": "code",
   "execution_count": 47,
   "metadata": {},
   "outputs": [],
   "source": [
    "# Reshape from [samples, timesteps] into [samples, timesteps, features]"
   ]
  },
  {
   "cell_type": "code",
   "execution_count": 48,
   "metadata": {},
   "outputs": [],
   "source": [
    "n_features = 1\n",
    "X_test = X_test.reshape((len(X_test), n_steps, n_features))"
   ]
  },
  {
   "cell_type": "code",
   "execution_count": 49,
   "metadata": {},
   "outputs": [
    {
     "data": {
      "text/plain": [
       "(744, 4, 1)"
      ]
     },
     "execution_count": 49,
     "metadata": {},
     "output_type": "execute_result"
    }
   ],
   "source": [
    "X_test.shape"
   ]
  },
  {
   "cell_type": "code",
   "execution_count": null,
   "metadata": {},
   "outputs": [],
   "source": []
  },
  {
   "cell_type": "code",
   "execution_count": null,
   "metadata": {},
   "outputs": [],
   "source": []
  },
  {
   "cell_type": "markdown",
   "metadata": {},
   "source": [
    "### Actual Test Set to compare with the predicted values"
   ]
  },
  {
   "cell_type": "code",
   "execution_count": 50,
   "metadata": {},
   "outputs": [],
   "source": [
    "test = df_house_A_test['consumption_kw_A']\n",
    "test = test.reset_index()\n",
    "test.drop(test.columns[0],axis=1,inplace=True)\n",
    "test = test.squeeze()"
   ]
  },
  {
   "cell_type": "code",
   "execution_count": 51,
   "metadata": {},
   "outputs": [
    {
     "data": {
      "text/plain": [
       "(744,)"
      ]
     },
     "execution_count": 51,
     "metadata": {},
     "output_type": "execute_result"
    }
   ],
   "source": [
    "test.shape"
   ]
  },
  {
   "cell_type": "code",
   "execution_count": null,
   "metadata": {},
   "outputs": [],
   "source": []
  },
  {
   "cell_type": "markdown",
   "metadata": {},
   "source": [
    "### Model Prediction"
   ]
  },
  {
   "cell_type": "code",
   "execution_count": 52,
   "metadata": {},
   "outputs": [],
   "source": [
    "preds = model.predict(X_test)"
   ]
  },
  {
   "cell_type": "code",
   "execution_count": null,
   "metadata": {},
   "outputs": [],
   "source": []
  },
  {
   "cell_type": "code",
   "execution_count": 53,
   "metadata": {},
   "outputs": [],
   "source": [
    "# Put predictions in Pandas Dataframe"
   ]
  },
  {
   "cell_type": "code",
   "execution_count": 54,
   "metadata": {},
   "outputs": [],
   "source": [
    "# test = test.iloc[n_steps:]"
   ]
  },
  {
   "cell_type": "code",
   "execution_count": 55,
   "metadata": {},
   "outputs": [],
   "source": [
    "preds = pd.DataFrame(preds)"
   ]
  },
  {
   "cell_type": "code",
   "execution_count": 56,
   "metadata": {},
   "outputs": [
    {
     "data": {
      "text/plain": [
       "(744, 1)"
      ]
     },
     "execution_count": 56,
     "metadata": {},
     "output_type": "execute_result"
    }
   ],
   "source": [
    "preds.shape"
   ]
  },
  {
   "cell_type": "markdown",
   "metadata": {},
   "source": [
    "### MAPE and MAE"
   ]
  },
  {
   "cell_type": "code",
   "execution_count": 57,
   "metadata": {},
   "outputs": [],
   "source": [
    "import numpy as np"
   ]
  },
  {
   "cell_type": "code",
   "execution_count": 58,
   "metadata": {},
   "outputs": [],
   "source": [
    "def smape(a, f):\n",
    "    return 1/len(a) * np.sum(2 * np.abs(f-a) / (np.abs(a) + np.abs(f))*100)"
   ]
  },
  {
   "cell_type": "code",
   "execution_count": null,
   "metadata": {},
   "outputs": [],
   "source": []
  },
  {
   "cell_type": "code",
   "execution_count": 59,
   "metadata": {},
   "outputs": [],
   "source": [
    "from sklearn.metrics import mean_squared_error, mean_absolute_percentage_error, mean_absolute_error"
   ]
  },
  {
   "cell_type": "code",
   "execution_count": 60,
   "metadata": {},
   "outputs": [],
   "source": [
    "def report_metrics(true,predictions):\n",
    "    print (f\" n_steps: {n_steps}\\\n",
    "              MAPE: {mean_absolute_percentage_error(true,predictions)}\\\n",
    "              MAE: {mean_absolute_error(true,predictions)}\")"
   ]
  },
  {
   "cell_type": "code",
   "execution_count": 61,
   "metadata": {},
   "outputs": [
    {
     "name": "stdout",
     "output_type": "stream",
     "text": [
      " n_steps: 4              MAPE: 1.02044764083544              MAE: 29.19428681492637\n"
     ]
    }
   ],
   "source": [
    "report_metrics  (test, preds)"
   ]
  },
  {
   "cell_type": "code",
   "execution_count": null,
   "metadata": {},
   "outputs": [],
   "source": []
  },
  {
   "cell_type": "code",
   "execution_count": 63,
   "metadata": {},
   "outputs": [],
   "source": [
    "data = []"
   ]
  },
  {
   "cell_type": "code",
   "execution_count": 64,
   "metadata": {},
   "outputs": [],
   "source": [
    "FFNN_Results = pd.DataFrame(data,\n",
    "                     columns=['n_steps', 'MAPE', 'MAE'])"
   ]
  },
  {
   "cell_type": "code",
   "execution_count": 65,
   "metadata": {},
   "outputs": [],
   "source": [
    "for i in range (2,48):\n",
    "    X, y = split_sequence(train, i)\n",
    "#    print(len(X), len(y))\n",
    "\n",
    "# Model building\n",
    "    model = Sequential()\n",
    "    model.add(Flatten(input_shape=(i, 1))) \n",
    "    model.add(Dense(1))\n",
    "    model.compile(optimizer='adam', loss='mse')\n",
    "    model.fit(X, y, epochs=50, verbose=0)\n",
    "    \n",
    "# Testing data treatment for the model to get the X_test\n",
    "    test_set_with_lag = df_house_A_train.iloc[-i:].append(df_house_A_test, ignore_index = True)\n",
    "    test_set_with_lag = test_set_with_lag['consumption_kw_A']\n",
    "    test_set_with_lag = test_set_with_lag.reset_index()\n",
    "    test_set_with_lag.drop(test_set_with_lag.columns[0],axis=1,inplace=True)\n",
    "    test_set_with_lag = test_set_with_lag.squeeze()\n",
    "\n",
    "# Actual Test Set to compare with the predicted values\n",
    "    test = df_house_A_test['consumption_kw_A']\n",
    "    test = test.reset_index()\n",
    "    test.drop(test.columns[0],axis=1,inplace=True)\n",
    "    test = test.squeeze()\n",
    "    \n",
    "# Model Testing\n",
    "    X_test, y_test = split_sequence(test_set_with_lag, i)\n",
    "    n_features = 1\n",
    "    X_test = X_test.reshape((len(X_test), i, n_features))\n",
    "    preds = model.predict(X_test)\n",
    "    preds = pd.DataFrame(preds)\n",
    "\n",
    "# Get FFNN results\n",
    "    FFNN_Results = FFNN_Results.append({'n_steps': i,\n",
    "                         'MAPE': mean_absolute_percentage_error(test,preds),\n",
    "                         'MAE': mean_absolute_error(test,preds)}, ignore_index=True)"
   ]
  },
  {
   "cell_type": "code",
   "execution_count": null,
   "metadata": {},
   "outputs": [],
   "source": []
  },
  {
   "cell_type": "code",
   "execution_count": 66,
   "metadata": {},
   "outputs": [],
   "source": [
    "import numpy as np\n",
    "import matplotlib.pyplot as plt"
   ]
  },
  {
   "cell_type": "code",
   "execution_count": 67,
   "metadata": {},
   "outputs": [
    {
     "data": {
      "image/png": "[encoded data removed]",
      "text/plain": [
       "<Figure size 432x288 with 1 Axes>"
      ]
     },
     "metadata": {
      "needs_background": "light"
     },
     "output_type": "display_data"
    }
   ],
   "source": [
    "plt.plot(FFNN_Results['n_steps'], FFNN_Results['MAPE'], 'o-')\n",
    "plt.xlabel('n_steps')\n",
    "plt.ylabel('MAPE')\n",
    "plt.title(\"n_steps vs MAPE - FFNN Model\")\n",
    "plt.show()"
   ]
  },
  {
   "cell_type": "code",
   "execution_count": 68,
   "metadata": {},
   "outputs": [
    {
     "data": {
      "image/png": "[encoded data removed]",
      "text/plain": [
       "<Figure size 432x288 with 1 Axes>"
      ]
     },
     "metadata": {
      "needs_background": "light"
     },
     "output_type": "display_data"
    }
   ],
   "source": [
    "plt.plot(FFNN_Results['n_steps'], FFNN_Results['MAE'], 'o-')\n",
    "plt.xlabel('n_steps')\n",
    "plt.ylabel('MAE')\n",
    "plt.title(\"n_steps vs MAE - FFNN Model\")\n",
    "plt.show()"
   ]
  },
  {
   "cell_type": "code",
   "execution_count": 69,
   "metadata": {},
   "outputs": [
    {
     "data": {
      "text/html": [
       "<div>\n",
       "<style scoped>\n",
       "    .dataframe tbody tr th:only-of-type {\n",
       "        vertical-align: middle;\n",
       "    }\n",
       "\n",
       "    .dataframe tbody tr th {\n",
       "        vertical-align: top;\n",
       "    }\n",
       "\n",
       "    .dataframe thead th {\n",
       "        text-align: right;\n",
       "    }\n",
       "</style>\n",
       "<table border=\"1\" class=\"dataframe\">\n",
       "  <thead>\n",
       "    <tr style=\"text-align: right;\">\n",
       "      <th></th>\n",
       "      <th>n_steps</th>\n",
       "      <th>MAPE</th>\n",
       "      <th>MAE</th>\n",
       "    </tr>\n",
       "  </thead>\n",
       "  <tbody>\n",
       "    <tr>\n",
       "      <th>0</th>\n",
       "      <td>2.0</td>\n",
       "      <td>2.121256</td>\n",
       "      <td>60.443240</td>\n",
       "    </tr>\n",
       "    <tr>\n",
       "      <th>1</th>\n",
       "      <td>3.0</td>\n",
       "      <td>0.867120</td>\n",
       "      <td>24.198264</td>\n",
       "    </tr>\n",
       "    <tr>\n",
       "      <th>2</th>\n",
       "      <td>4.0</td>\n",
       "      <td>1.898848</td>\n",
       "      <td>54.111323</td>\n",
       "    </tr>\n",
       "    <tr>\n",
       "      <th>3</th>\n",
       "      <td>5.0</td>\n",
       "      <td>0.825033</td>\n",
       "      <td>23.016092</td>\n",
       "    </tr>\n",
       "    <tr>\n",
       "      <th>4</th>\n",
       "      <td>6.0</td>\n",
       "      <td>0.150785</td>\n",
       "      <td>3.765919</td>\n",
       "    </tr>\n",
       "    <tr>\n",
       "      <th>5</th>\n",
       "      <td>7.0</td>\n",
       "      <td>0.596533</td>\n",
       "      <td>16.510690</td>\n",
       "    </tr>\n",
       "    <tr>\n",
       "      <th>6</th>\n",
       "      <td>8.0</td>\n",
       "      <td>2.181452</td>\n",
       "      <td>62.032907</td>\n",
       "    </tr>\n",
       "    <tr>\n",
       "      <th>7</th>\n",
       "      <td>9.0</td>\n",
       "      <td>1.378478</td>\n",
       "      <td>39.170293</td>\n",
       "    </tr>\n",
       "    <tr>\n",
       "      <th>8</th>\n",
       "      <td>10.0</td>\n",
       "      <td>0.168562</td>\n",
       "      <td>4.310744</td>\n",
       "    </tr>\n",
       "    <tr>\n",
       "      <th>9</th>\n",
       "      <td>11.0</td>\n",
       "      <td>0.638139</td>\n",
       "      <td>18.776936</td>\n",
       "    </tr>\n",
       "    <tr>\n",
       "      <th>10</th>\n",
       "      <td>12.0</td>\n",
       "      <td>0.704337</td>\n",
       "      <td>20.712748</td>\n",
       "    </tr>\n",
       "    <tr>\n",
       "      <th>11</th>\n",
       "      <td>13.0</td>\n",
       "      <td>0.727523</td>\n",
       "      <td>19.863439</td>\n",
       "    </tr>\n",
       "    <tr>\n",
       "      <th>12</th>\n",
       "      <td>14.0</td>\n",
       "      <td>0.130975</td>\n",
       "      <td>3.228629</td>\n",
       "    </tr>\n",
       "    <tr>\n",
       "      <th>13</th>\n",
       "      <td>15.0</td>\n",
       "      <td>1.255011</td>\n",
       "      <td>36.003263</td>\n",
       "    </tr>\n",
       "    <tr>\n",
       "      <th>14</th>\n",
       "      <td>16.0</td>\n",
       "      <td>0.236239</td>\n",
       "      <td>5.785204</td>\n",
       "    </tr>\n",
       "    <tr>\n",
       "      <th>15</th>\n",
       "      <td>17.0</td>\n",
       "      <td>0.314800</td>\n",
       "      <td>8.249039</td>\n",
       "    </tr>\n",
       "    <tr>\n",
       "      <th>16</th>\n",
       "      <td>18.0</td>\n",
       "      <td>1.879543</td>\n",
       "      <td>52.916863</td>\n",
       "    </tr>\n",
       "    <tr>\n",
       "      <th>17</th>\n",
       "      <td>19.0</td>\n",
       "      <td>0.261682</td>\n",
       "      <td>6.689260</td>\n",
       "    </tr>\n",
       "    <tr>\n",
       "      <th>18</th>\n",
       "      <td>20.0</td>\n",
       "      <td>0.365256</td>\n",
       "      <td>9.988268</td>\n",
       "    </tr>\n",
       "    <tr>\n",
       "      <th>19</th>\n",
       "      <td>21.0</td>\n",
       "      <td>1.840308</td>\n",
       "      <td>52.097525</td>\n",
       "    </tr>\n",
       "    <tr>\n",
       "      <th>20</th>\n",
       "      <td>22.0</td>\n",
       "      <td>0.916361</td>\n",
       "      <td>24.668756</td>\n",
       "    </tr>\n",
       "    <tr>\n",
       "      <th>21</th>\n",
       "      <td>23.0</td>\n",
       "      <td>1.703732</td>\n",
       "      <td>48.530697</td>\n",
       "    </tr>\n",
       "    <tr>\n",
       "      <th>22</th>\n",
       "      <td>24.0</td>\n",
       "      <td>0.170751</td>\n",
       "      <td>4.626417</td>\n",
       "    </tr>\n",
       "    <tr>\n",
       "      <th>23</th>\n",
       "      <td>25.0</td>\n",
       "      <td>0.333805</td>\n",
       "      <td>8.394781</td>\n",
       "    </tr>\n",
       "    <tr>\n",
       "      <th>24</th>\n",
       "      <td>26.0</td>\n",
       "      <td>1.066375</td>\n",
       "      <td>30.492412</td>\n",
       "    </tr>\n",
       "    <tr>\n",
       "      <th>25</th>\n",
       "      <td>27.0</td>\n",
       "      <td>0.398828</td>\n",
       "      <td>10.665105</td>\n",
       "    </tr>\n",
       "    <tr>\n",
       "      <th>26</th>\n",
       "      <td>28.0</td>\n",
       "      <td>1.157579</td>\n",
       "      <td>32.112970</td>\n",
       "    </tr>\n",
       "    <tr>\n",
       "      <th>27</th>\n",
       "      <td>29.0</td>\n",
       "      <td>0.202054</td>\n",
       "      <td>5.380093</td>\n",
       "    </tr>\n",
       "    <tr>\n",
       "      <th>28</th>\n",
       "      <td>30.0</td>\n",
       "      <td>0.567892</td>\n",
       "      <td>15.457086</td>\n",
       "    </tr>\n",
       "    <tr>\n",
       "      <th>29</th>\n",
       "      <td>31.0</td>\n",
       "      <td>0.460292</td>\n",
       "      <td>13.240238</td>\n",
       "    </tr>\n",
       "    <tr>\n",
       "      <th>30</th>\n",
       "      <td>32.0</td>\n",
       "      <td>0.269603</td>\n",
       "      <td>7.408446</td>\n",
       "    </tr>\n",
       "    <tr>\n",
       "      <th>31</th>\n",
       "      <td>33.0</td>\n",
       "      <td>0.421772</td>\n",
       "      <td>12.538503</td>\n",
       "    </tr>\n",
       "    <tr>\n",
       "      <th>32</th>\n",
       "      <td>34.0</td>\n",
       "      <td>0.318362</td>\n",
       "      <td>9.405516</td>\n",
       "    </tr>\n",
       "    <tr>\n",
       "      <th>33</th>\n",
       "      <td>35.0</td>\n",
       "      <td>0.374918</td>\n",
       "      <td>10.594974</td>\n",
       "    </tr>\n",
       "    <tr>\n",
       "      <th>34</th>\n",
       "      <td>36.0</td>\n",
       "      <td>0.298938</td>\n",
       "      <td>8.790276</td>\n",
       "    </tr>\n",
       "    <tr>\n",
       "      <th>35</th>\n",
       "      <td>37.0</td>\n",
       "      <td>0.490339</td>\n",
       "      <td>13.881050</td>\n",
       "    </tr>\n",
       "    <tr>\n",
       "      <th>36</th>\n",
       "      <td>38.0</td>\n",
       "      <td>0.309957</td>\n",
       "      <td>8.478936</td>\n",
       "    </tr>\n",
       "    <tr>\n",
       "      <th>37</th>\n",
       "      <td>39.0</td>\n",
       "      <td>0.253255</td>\n",
       "      <td>6.604840</td>\n",
       "    </tr>\n",
       "    <tr>\n",
       "      <th>38</th>\n",
       "      <td>40.0</td>\n",
       "      <td>1.133038</td>\n",
       "      <td>31.217643</td>\n",
       "    </tr>\n",
       "    <tr>\n",
       "      <th>39</th>\n",
       "      <td>41.0</td>\n",
       "      <td>0.246115</td>\n",
       "      <td>7.044568</td>\n",
       "    </tr>\n",
       "    <tr>\n",
       "      <th>40</th>\n",
       "      <td>42.0</td>\n",
       "      <td>0.317040</td>\n",
       "      <td>9.213683</td>\n",
       "    </tr>\n",
       "    <tr>\n",
       "      <th>41</th>\n",
       "      <td>43.0</td>\n",
       "      <td>0.219718</td>\n",
       "      <td>5.690581</td>\n",
       "    </tr>\n",
       "    <tr>\n",
       "      <th>42</th>\n",
       "      <td>44.0</td>\n",
       "      <td>0.231022</td>\n",
       "      <td>6.660231</td>\n",
       "    </tr>\n",
       "    <tr>\n",
       "      <th>43</th>\n",
       "      <td>45.0</td>\n",
       "      <td>0.319163</td>\n",
       "      <td>9.220216</td>\n",
       "    </tr>\n",
       "    <tr>\n",
       "      <th>44</th>\n",
       "      <td>46.0</td>\n",
       "      <td>1.614719</td>\n",
       "      <td>45.791402</td>\n",
       "    </tr>\n",
       "    <tr>\n",
       "      <th>45</th>\n",
       "      <td>47.0</td>\n",
       "      <td>0.421601</td>\n",
       "      <td>12.553615</td>\n",
       "    </tr>\n",
       "  </tbody>\n",
       "</table>\n",
       "</div>"
      ],
      "text/plain": [
       "    n_steps      MAPE        MAE\n",
       "0       2.0  2.121256  60.443240\n",
       "1       3.0  0.867120  24.198264\n",
       "2       4.0  1.898848  54.111323\n",
       "3       5.0  0.825033  23.016092\n",
       "4       6.0  0.150785   3.765919\n",
       "5       7.0  0.596533  16.510690\n",
       "6       8.0  2.181452  62.032907\n",
       "7       9.0  1.378478  39.170293\n",
       "8      10.0  0.168562   4.310744\n",
       "9      11.0  0.638139  18.776936\n",
       "10     12.0  0.704337  20.712748\n",
       "11     13.0  0.727523  19.863439\n",
       "12     14.0  0.130975   3.228629\n",
       "13     15.0  1.255011  36.003263\n",
       "14     16.0  0.236239   5.785204\n",
       "15     17.0  0.314800   8.249039\n",
       "16     18.0  1.879543  52.916863\n",
       "17     19.0  0.261682   6.689260\n",
       "18     20.0  0.365256   9.988268\n",
       "19     21.0  1.840308  52.097525\n",
       "20     22.0  0.916361  24.668756\n",
       "21     23.0  1.703732  48.530697\n",
       "22     24.0  0.170751   4.626417\n",
       "23     25.0  0.333805   8.394781\n",
       "24     26.0  1.066375  30.492412\n",
       "25     27.0  0.398828  10.665105\n",
       "26     28.0  1.157579  32.112970\n",
       "27     29.0  0.202054   5.380093\n",
       "28     30.0  0.567892  15.457086\n",
       "29     31.0  0.460292  13.240238\n",
       "30     32.0  0.269603   7.408446\n",
       "31     33.0  0.421772  12.538503\n",
       "32     34.0  0.318362   9.405516\n",
       "33     35.0  0.374918  10.594974\n",
       "34     36.0  0.298938   8.790276\n",
       "35     37.0  0.490339  13.881050\n",
       "36     38.0  0.309957   8.478936\n",
       "37     39.0  0.253255   6.604840\n",
       "38     40.0  1.133038  31.217643\n",
       "39     41.0  0.246115   7.044568\n",
       "40     42.0  0.317040   9.213683\n",
       "41     43.0  0.219718   5.690581\n",
       "42     44.0  0.231022   6.660231\n",
       "43     45.0  0.319163   9.220216\n",
       "44     46.0  1.614719  45.791402\n",
       "45     47.0  0.421601  12.553615"
      ]
     },
     "execution_count": 69,
     "metadata": {},
     "output_type": "execute_result"
    }
   ],
   "source": [
    "FFNN_Results"
   ]
  },
  {
   "cell_type": "code",
   "execution_count": null,
   "metadata": {},
   "outputs": [],
   "source": []
  },
  {
   "cell_type": "markdown",
   "metadata": {},
   "source": [
    "## T1.2 LSTM Model"
   ]
  },
  {
   "cell_type": "code",
   "execution_count": null,
   "metadata": {},
   "outputs": [],
   "source": []
  },
  {
   "cell_type": "markdown",
   "metadata": {},
   "source": [
    "### Training Data Preparation"
   ]
  },
  {
   "cell_type": "code",
   "execution_count": 62,
   "metadata": {},
   "outputs": [],
   "source": [
    "from numpy import array"
   ]
  },
  {
   "cell_type": "code",
   "execution_count": null,
   "metadata": {},
   "outputs": [],
   "source": []
  },
  {
   "cell_type": "code",
   "execution_count": 63,
   "metadata": {},
   "outputs": [],
   "source": [
    "# Define the input sequence"
   ]
  },
  {
   "cell_type": "code",
   "execution_count": 64,
   "metadata": {},
   "outputs": [],
   "source": [
    "train = df_house_A_train['consumption_kw_A']"
   ]
  },
  {
   "cell_type": "code",
   "execution_count": null,
   "metadata": {},
   "outputs": [],
   "source": []
  },
  {
   "cell_type": "code",
   "execution_count": 65,
   "metadata": {},
   "outputs": [],
   "source": [
    "# Choose a number of time steps"
   ]
  },
  {
   "cell_type": "code",
   "execution_count": 66,
   "metadata": {},
   "outputs": [],
   "source": [
    "n_steps = 4"
   ]
  },
  {
   "cell_type": "code",
   "execution_count": null,
   "metadata": {},
   "outputs": [],
   "source": []
  },
  {
   "cell_type": "code",
   "execution_count": 67,
   "metadata": {},
   "outputs": [],
   "source": [
    "# Split into samples"
   ]
  },
  {
   "cell_type": "code",
   "execution_count": 68,
   "metadata": {},
   "outputs": [],
   "source": [
    "X, y = split_sequence(train, n_steps)"
   ]
  },
  {
   "cell_type": "code",
   "execution_count": null,
   "metadata": {},
   "outputs": [],
   "source": []
  },
  {
   "cell_type": "code",
   "execution_count": 69,
   "metadata": {},
   "outputs": [],
   "source": [
    "# Reshape from [samples, timesteps] into [samples, timesteps, features]"
   ]
  },
  {
   "cell_type": "code",
   "execution_count": 70,
   "metadata": {},
   "outputs": [],
   "source": [
    "n_features = 1\n",
    "X = X.reshape((X.shape[0], X.shape[1], n_features))"
   ]
  },
  {
   "cell_type": "code",
   "execution_count": null,
   "metadata": {},
   "outputs": [],
   "source": []
  },
  {
   "cell_type": "markdown",
   "metadata": {},
   "source": [
    "### Model Training"
   ]
  },
  {
   "cell_type": "code",
   "execution_count": 71,
   "metadata": {},
   "outputs": [],
   "source": [
    "from keras.models import Sequential\n",
    "from keras.layers import LSTM\n",
    "from keras.layers import Dense"
   ]
  },
  {
   "cell_type": "code",
   "execution_count": null,
   "metadata": {},
   "outputs": [],
   "source": []
  },
  {
   "cell_type": "code",
   "execution_count": 72,
   "metadata": {},
   "outputs": [],
   "source": [
    "model = Sequential()\n",
    "model.add(LSTM(100, activation='relu', input_shape=(n_steps, n_features))) # 25, 50, 75, 100, 150, 200\n",
    "model.add(Dense(1))\n",
    "model.compile(optimizer='adam', loss='mse')"
   ]
  },
  {
   "cell_type": "code",
   "execution_count": 73,
   "metadata": {},
   "outputs": [
    {
     "name": "stdout",
     "output_type": "stream",
     "text": [
      "Model: \"sequential_1\"\n",
      "_________________________________________________________________\n",
      "Layer (type)                 Output Shape              Param #   \n",
      "=================================================================\n",
      "lstm (LSTM)                  (None, 100)               40800     \n",
      "_________________________________________________________________\n",
      "dense (Dense)                (None, 1)                 101       \n",
      "=================================================================\n",
      "Total params: 40,901\n",
      "Trainable params: 40,901\n",
      "Non-trainable params: 0\n",
      "_________________________________________________________________\n"
     ]
    }
   ],
   "source": [
    "model.summary()"
   ]
  },
  {
   "cell_type": "code",
   "execution_count": 74,
   "metadata": {},
   "outputs": [
    {
     "data": {
      "text/plain": [
       "<keras.callbacks.History at 0x21e105ee310>"
      ]
     },
     "execution_count": 74,
     "metadata": {},
     "output_type": "execute_result"
    }
   ],
   "source": [
    "model.fit(X, y, epochs=50, verbose=0)"
   ]
  },
  {
   "cell_type": "code",
   "execution_count": null,
   "metadata": {},
   "outputs": [],
   "source": []
  },
  {
   "cell_type": "markdown",
   "metadata": {},
   "source": [
    "### Test data set treatment"
   ]
  },
  {
   "cell_type": "code",
   "execution_count": 75,
   "metadata": {},
   "outputs": [],
   "source": [
    "# Choose a number of time steps"
   ]
  },
  {
   "cell_type": "code",
   "execution_count": 76,
   "metadata": {},
   "outputs": [],
   "source": [
    "n_steps = 4"
   ]
  },
  {
   "cell_type": "code",
   "execution_count": null,
   "metadata": {},
   "outputs": [],
   "source": []
  },
  {
   "cell_type": "code",
   "execution_count": 77,
   "metadata": {},
   "outputs": [],
   "source": [
    "# Test Set with Lag created to get the X_test to predict in the model"
   ]
  },
  {
   "cell_type": "code",
   "execution_count": 78,
   "metadata": {},
   "outputs": [],
   "source": [
    "test_set_with_lag = df_house_A_train.iloc[-n_steps:].append(df_house_A_test, ignore_index = True)\n",
    "test_set_with_lag = test_set_with_lag['consumption_kw_A']\n",
    "test_set_with_lag = test_set_with_lag.reset_index()\n",
    "test_set_with_lag.drop(test_set_with_lag.columns[0],axis=1,inplace=True)\n",
    "test_set_with_lag = test_set_with_lag.squeeze()"
   ]
  },
  {
   "cell_type": "code",
   "execution_count": 79,
   "metadata": {},
   "outputs": [
    {
     "data": {
      "text/plain": [
       "(748,)"
      ]
     },
     "execution_count": 79,
     "metadata": {},
     "output_type": "execute_result"
    }
   ],
   "source": [
    "test_set_with_lag.shape"
   ]
  },
  {
   "cell_type": "code",
   "execution_count": null,
   "metadata": {},
   "outputs": [],
   "source": []
  },
  {
   "cell_type": "code",
   "execution_count": 80,
   "metadata": {},
   "outputs": [],
   "source": [
    "# Split into samples"
   ]
  },
  {
   "cell_type": "code",
   "execution_count": 81,
   "metadata": {},
   "outputs": [],
   "source": [
    "X_test, y_test = split_sequence(test_set_with_lag, n_steps)"
   ]
  },
  {
   "cell_type": "code",
   "execution_count": 82,
   "metadata": {},
   "outputs": [
    {
     "name": "stdout",
     "output_type": "stream",
     "text": [
      "744 744\n"
     ]
    }
   ],
   "source": [
    "print(len(X_test), len(y_test))"
   ]
  },
  {
   "cell_type": "code",
   "execution_count": null,
   "metadata": {},
   "outputs": [],
   "source": []
  },
  {
   "cell_type": "code",
   "execution_count": 83,
   "metadata": {},
   "outputs": [],
   "source": [
    "# Reshape from [samples, timesteps] into [samples, timesteps, features]"
   ]
  },
  {
   "cell_type": "code",
   "execution_count": 84,
   "metadata": {},
   "outputs": [],
   "source": [
    "n_features = 1\n",
    "X_test = X_test.reshape((len(X_test), n_steps, n_features))"
   ]
  },
  {
   "cell_type": "code",
   "execution_count": 85,
   "metadata": {},
   "outputs": [
    {
     "data": {
      "text/plain": [
       "(744, 4, 1)"
      ]
     },
     "execution_count": 85,
     "metadata": {},
     "output_type": "execute_result"
    }
   ],
   "source": [
    "X_test.shape"
   ]
  },
  {
   "cell_type": "code",
   "execution_count": null,
   "metadata": {},
   "outputs": [],
   "source": []
  },
  {
   "cell_type": "markdown",
   "metadata": {},
   "source": [
    "### Actual Test Set to compare with the predicted values"
   ]
  },
  {
   "cell_type": "code",
   "execution_count": 86,
   "metadata": {},
   "outputs": [],
   "source": [
    "test = df_house_A_test['consumption_kw_A']\n",
    "test = test.reset_index()\n",
    "test.drop(test.columns[0],axis=1,inplace=True)\n",
    "test = test.squeeze()"
   ]
  },
  {
   "cell_type": "code",
   "execution_count": 87,
   "metadata": {},
   "outputs": [
    {
     "data": {
      "text/plain": [
       "(744,)"
      ]
     },
     "execution_count": 87,
     "metadata": {},
     "output_type": "execute_result"
    }
   ],
   "source": [
    "test.shape"
   ]
  },
  {
   "cell_type": "code",
   "execution_count": null,
   "metadata": {},
   "outputs": [],
   "source": []
  },
  {
   "cell_type": "markdown",
   "metadata": {},
   "source": [
    "### Model Prediction"
   ]
  },
  {
   "cell_type": "code",
   "execution_count": 88,
   "metadata": {},
   "outputs": [],
   "source": [
    "preds = model.predict(X_test)"
   ]
  },
  {
   "cell_type": "code",
   "execution_count": null,
   "metadata": {},
   "outputs": [],
   "source": []
  },
  {
   "cell_type": "code",
   "execution_count": 89,
   "metadata": {},
   "outputs": [],
   "source": [
    "# Put predictions in Pandas Dataframe"
   ]
  },
  {
   "cell_type": "code",
   "execution_count": 90,
   "metadata": {},
   "outputs": [],
   "source": [
    "preds = pd.DataFrame(preds)"
   ]
  },
  {
   "cell_type": "code",
   "execution_count": 91,
   "metadata": {},
   "outputs": [
    {
     "data": {
      "text/plain": [
       "(744, 1)"
      ]
     },
     "execution_count": 91,
     "metadata": {},
     "output_type": "execute_result"
    }
   ],
   "source": [
    "preds.shape"
   ]
  },
  {
   "cell_type": "code",
   "execution_count": null,
   "metadata": {},
   "outputs": [],
   "source": []
  },
  {
   "cell_type": "markdown",
   "metadata": {},
   "source": [
    "### MAPE and MAE"
   ]
  },
  {
   "cell_type": "code",
   "execution_count": 92,
   "metadata": {},
   "outputs": [
    {
     "name": "stdout",
     "output_type": "stream",
     "text": [
      " n_steps: 4              MAPE: 0.11404676086014426              MAE: 2.8733199054896352\n"
     ]
    }
   ],
   "source": [
    "report_metrics  (test, preds)"
   ]
  },
  {
   "cell_type": "code",
   "execution_count": null,
   "metadata": {},
   "outputs": [],
   "source": []
  },
  {
   "cell_type": "code",
   "execution_count": 101,
   "metadata": {},
   "outputs": [],
   "source": [
    "data = []"
   ]
  },
  {
   "cell_type": "code",
   "execution_count": 102,
   "metadata": {},
   "outputs": [],
   "source": [
    "LSTM_Results = pd.DataFrame(data,\n",
    "                     columns=['n_steps', 'MAPE', 'MAE'])"
   ]
  },
  {
   "cell_type": "code",
   "execution_count": null,
   "metadata": {},
   "outputs": [],
   "source": []
  },
  {
   "cell_type": "code",
   "execution_count": 103,
   "metadata": {},
   "outputs": [],
   "source": [
    "for i in range (2,25):\n",
    "    train = df_house_A_train['consumption_kw_A']\n",
    "    X, y = split_sequence(train, i)\n",
    "    n_features = 1\n",
    "    X = X.reshape((X.shape[0], X.shape[1], n_features))\n",
    "    \n",
    "# Model building\n",
    "    model = Sequential()\n",
    "    model.add(LSTM(100, activation='relu', input_shape=(i, n_features))) # 25, 50, 75, 100, 150, 200\n",
    "    model.add(Dense(1))\n",
    "    model.compile(optimizer='adam', loss='mse')\n",
    "    model.fit(X, y, epochs=50, verbose=0)\n",
    "    \n",
    "# Testing data treatment for the model to get the X_test\n",
    "    test_set_with_lag = df_house_A_train.iloc[-i:].append(df_house_A_test, ignore_index = True)\n",
    "    test_set_with_lag = test_set_with_lag['consumption_kw_A']\n",
    "    test_set_with_lag = test_set_with_lag.reset_index()\n",
    "    test_set_with_lag.drop(test_set_with_lag.columns[0],axis=1,inplace=True)\n",
    "    test_set_with_lag = test_set_with_lag.squeeze()\n",
    "\n",
    "# Actual Test Set to compare with the predicted values\n",
    "    test = df_house_A_test['consumption_kw_A']\n",
    "    test = test.reset_index()\n",
    "    test.drop(test.columns[0],axis=1,inplace=True)\n",
    "    test = test.squeeze()\n",
    "    \n",
    "# Model Testing\n",
    "    X_test, y_test = split_sequence(test_set_with_lag, i)\n",
    "    n_features = 1\n",
    "    X_test = X_test.reshape((len(X_test), i, n_features))\n",
    "    preds = model.predict(X_test)\n",
    "    preds = pd.DataFrame(preds)\n",
    "\n",
    "# Get FFNN results\n",
    "    LSTM_Results = LSTM_Results.append({'n_steps': i,\n",
    "                         'MAPE': mean_absolute_percentage_error(test,preds),\n",
    "                         'MAE': mean_absolute_error(test,preds)}, ignore_index=True)"
   ]
  },
  {
   "cell_type": "code",
   "execution_count": 104,
   "metadata": {},
   "outputs": [
    {
     "data": {
      "text/html": [
       "<div>\n",
       "<style scoped>\n",
       "    .dataframe tbody tr th:only-of-type {\n",
       "        vertical-align: middle;\n",
       "    }\n",
       "\n",
       "    .dataframe tbody tr th {\n",
       "        vertical-align: top;\n",
       "    }\n",
       "\n",
       "    .dataframe thead th {\n",
       "        text-align: right;\n",
       "    }\n",
       "</style>\n",
       "<table border=\"1\" class=\"dataframe\">\n",
       "  <thead>\n",
       "    <tr style=\"text-align: right;\">\n",
       "      <th></th>\n",
       "      <th>n_steps</th>\n",
       "      <th>MAPE</th>\n",
       "      <th>MAE</th>\n",
       "    </tr>\n",
       "  </thead>\n",
       "  <tbody>\n",
       "    <tr>\n",
       "      <th>0</th>\n",
       "      <td>2.0</td>\n",
       "      <td>0.094646</td>\n",
       "      <td>2.515724</td>\n",
       "    </tr>\n",
       "    <tr>\n",
       "      <th>1</th>\n",
       "      <td>3.0</td>\n",
       "      <td>0.094344</td>\n",
       "      <td>2.393962</td>\n",
       "    </tr>\n",
       "    <tr>\n",
       "      <th>2</th>\n",
       "      <td>4.0</td>\n",
       "      <td>0.126991</td>\n",
       "      <td>3.279583</td>\n",
       "    </tr>\n",
       "    <tr>\n",
       "      <th>3</th>\n",
       "      <td>5.0</td>\n",
       "      <td>0.094202</td>\n",
       "      <td>2.474792</td>\n",
       "    </tr>\n",
       "    <tr>\n",
       "      <th>4</th>\n",
       "      <td>6.0</td>\n",
       "      <td>0.084360</td>\n",
       "      <td>2.208753</td>\n",
       "    </tr>\n",
       "    <tr>\n",
       "      <th>5</th>\n",
       "      <td>7.0</td>\n",
       "      <td>0.091399</td>\n",
       "      <td>2.517883</td>\n",
       "    </tr>\n",
       "    <tr>\n",
       "      <th>6</th>\n",
       "      <td>8.0</td>\n",
       "      <td>0.088951</td>\n",
       "      <td>2.359669</td>\n",
       "    </tr>\n",
       "    <tr>\n",
       "      <th>7</th>\n",
       "      <td>9.0</td>\n",
       "      <td>0.152116</td>\n",
       "      <td>4.578758</td>\n",
       "    </tr>\n",
       "    <tr>\n",
       "      <th>8</th>\n",
       "      <td>10.0</td>\n",
       "      <td>0.123937</td>\n",
       "      <td>3.616390</td>\n",
       "    </tr>\n",
       "    <tr>\n",
       "      <th>9</th>\n",
       "      <td>11.0</td>\n",
       "      <td>0.121345</td>\n",
       "      <td>3.441474</td>\n",
       "    </tr>\n",
       "    <tr>\n",
       "      <th>10</th>\n",
       "      <td>12.0</td>\n",
       "      <td>0.112244</td>\n",
       "      <td>3.269324</td>\n",
       "    </tr>\n",
       "    <tr>\n",
       "      <th>11</th>\n",
       "      <td>13.0</td>\n",
       "      <td>0.155749</td>\n",
       "      <td>4.645692</td>\n",
       "    </tr>\n",
       "    <tr>\n",
       "      <th>12</th>\n",
       "      <td>14.0</td>\n",
       "      <td>0.145160</td>\n",
       "      <td>4.297889</td>\n",
       "    </tr>\n",
       "    <tr>\n",
       "      <th>13</th>\n",
       "      <td>15.0</td>\n",
       "      <td>0.113059</td>\n",
       "      <td>3.214208</td>\n",
       "    </tr>\n",
       "    <tr>\n",
       "      <th>14</th>\n",
       "      <td>16.0</td>\n",
       "      <td>0.302779</td>\n",
       "      <td>9.258431</td>\n",
       "    </tr>\n",
       "    <tr>\n",
       "      <th>15</th>\n",
       "      <td>17.0</td>\n",
       "      <td>0.144989</td>\n",
       "      <td>4.310342</td>\n",
       "    </tr>\n",
       "    <tr>\n",
       "      <th>16</th>\n",
       "      <td>18.0</td>\n",
       "      <td>0.156504</td>\n",
       "      <td>4.600644</td>\n",
       "    </tr>\n",
       "    <tr>\n",
       "      <th>17</th>\n",
       "      <td>19.0</td>\n",
       "      <td>0.137178</td>\n",
       "      <td>4.068030</td>\n",
       "    </tr>\n",
       "    <tr>\n",
       "      <th>18</th>\n",
       "      <td>20.0</td>\n",
       "      <td>0.130295</td>\n",
       "      <td>3.715835</td>\n",
       "    </tr>\n",
       "    <tr>\n",
       "      <th>19</th>\n",
       "      <td>21.0</td>\n",
       "      <td>0.211359</td>\n",
       "      <td>6.341989</td>\n",
       "    </tr>\n",
       "    <tr>\n",
       "      <th>20</th>\n",
       "      <td>22.0</td>\n",
       "      <td>0.171276</td>\n",
       "      <td>4.976355</td>\n",
       "    </tr>\n",
       "    <tr>\n",
       "      <th>21</th>\n",
       "      <td>23.0</td>\n",
       "      <td>0.221315</td>\n",
       "      <td>6.317480</td>\n",
       "    </tr>\n",
       "    <tr>\n",
       "      <th>22</th>\n",
       "      <td>24.0</td>\n",
       "      <td>0.154306</td>\n",
       "      <td>4.300214</td>\n",
       "    </tr>\n",
       "  </tbody>\n",
       "</table>\n",
       "</div>"
      ],
      "text/plain": [
       "    n_steps      MAPE       MAE\n",
       "0       2.0  0.094646  2.515724\n",
       "1       3.0  0.094344  2.393962\n",
       "2       4.0  0.126991  3.279583\n",
       "3       5.0  0.094202  2.474792\n",
       "4       6.0  0.084360  2.208753\n",
       "5       7.0  0.091399  2.517883\n",
       "6       8.0  0.088951  2.359669\n",
       "7       9.0  0.152116  4.578758\n",
       "8      10.0  0.123937  3.616390\n",
       "9      11.0  0.121345  3.441474\n",
       "10     12.0  0.112244  3.269324\n",
       "11     13.0  0.155749  4.645692\n",
       "12     14.0  0.145160  4.297889\n",
       "13     15.0  0.113059  3.214208\n",
       "14     16.0  0.302779  9.258431\n",
       "15     17.0  0.144989  4.310342\n",
       "16     18.0  0.156504  4.600644\n",
       "17     19.0  0.137178  4.068030\n",
       "18     20.0  0.130295  3.715835\n",
       "19     21.0  0.211359  6.341989\n",
       "20     22.0  0.171276  4.976355\n",
       "21     23.0  0.221315  6.317480\n",
       "22     24.0  0.154306  4.300214"
      ]
     },
     "execution_count": 104,
     "metadata": {},
     "output_type": "execute_result"
    }
   ],
   "source": [
    "LSTM_Results"
   ]
  },
  {
   "cell_type": "code",
   "execution_count": null,
   "metadata": {},
   "outputs": [],
   "source": []
  },
  {
   "cell_type": "code",
   "execution_count": 105,
   "metadata": {},
   "outputs": [],
   "source": [
    "import numpy as np\n",
    "import matplotlib.pyplot as plt"
   ]
  },
  {
   "cell_type": "code",
   "execution_count": 106,
   "metadata": {},
   "outputs": [
    {
     "data": {
      "image/png": "[encoded data removed]",
      "text/plain": [
       "<Figure size 432x288 with 1 Axes>"
      ]
     },
     "metadata": {
      "needs_background": "light"
     },
     "output_type": "display_data"
    }
   ],
   "source": [
    "plt.plot(LSTM_Results['n_steps'], LSTM_Results['MAPE'], 'o-')\n",
    "plt.xlabel('n_steps')\n",
    "plt.ylabel('MAPE')\n",
    "plt.title(\"n_steps vs MAPE - LSTM Model\")\n",
    "plt.show()"
   ]
  },
  {
   "cell_type": "code",
   "execution_count": 107,
   "metadata": {},
   "outputs": [
    {
     "data": {
      "image/png": "[encoded data removed]",
      "text/plain": [
       "<Figure size 432x288 with 1 Axes>"
      ]
     },
     "metadata": {
      "needs_background": "light"
     },
     "output_type": "display_data"
    }
   ],
   "source": [
    "plt.plot(LSTM_Results['n_steps'], LSTM_Results['MAE'], 'o-')\n",
    "plt.xlabel('n_steps')\n",
    "plt.ylabel('MAE')\n",
    "plt.title(\"n_steps vs MAE - LSTM Model\")\n",
    "plt.show()"
   ]
  },
  {
   "cell_type": "code",
   "execution_count": null,
   "metadata": {},
   "outputs": [],
   "source": []
  },
  {
   "cell_type": "markdown",
   "metadata": {},
   "source": [
    "## T1.3 Linear Regression"
   ]
  },
  {
   "cell_type": "code",
   "execution_count": null,
   "metadata": {},
   "outputs": [],
   "source": []
  },
  {
   "cell_type": "markdown",
   "metadata": {},
   "source": [
    "### Training Data Preparation"
   ]
  },
  {
   "cell_type": "code",
   "execution_count": null,
   "metadata": {},
   "outputs": [],
   "source": []
  },
  {
   "cell_type": "code",
   "execution_count": 21,
   "metadata": {},
   "outputs": [],
   "source": [
    "# Define the input sequence"
   ]
  },
  {
   "cell_type": "code",
   "execution_count": 22,
   "metadata": {},
   "outputs": [],
   "source": [
    "df = df_house_A_clean"
   ]
  },
  {
   "cell_type": "code",
   "execution_count": null,
   "metadata": {},
   "outputs": [],
   "source": []
  },
  {
   "cell_type": "code",
   "execution_count": 23,
   "metadata": {},
   "outputs": [
    {
     "name": "stderr",
     "output_type": "stream",
     "text": [
      "<ipython-input-23-e8d6d53e1634>:5: SettingWithCopyWarning: \n",
      "A value is trying to be set on a copy of a slice from a DataFrame.\n",
      "Try using .loc[row_indexer,col_indexer] = value instead\n",
      "\n",
      "See the caveats in the documentation: https://pandas.pydata.org/pandas-docs/stable/user_guide/indexing.html#returning-a-view-versus-a-copy\n",
      "  df[f'lag_{i}'] = df['consumption_kw_A'].shift(i)\n"
     ]
    }
   ],
   "source": [
    "p=4\n",
    "l = list(range(1, p+1))\n",
    "l.reverse()\n",
    "for i in l:\n",
    "    df[f'lag_{i}'] = df['consumption_kw_A'].shift(i)"
   ]
  },
  {
   "cell_type": "code",
   "execution_count": 24,
   "metadata": {},
   "outputs": [],
   "source": [
    "# df.head(20)"
   ]
  },
  {
   "cell_type": "code",
   "execution_count": 25,
   "metadata": {},
   "outputs": [],
   "source": [
    "h=1\n",
    "for i in range(0, h):\n",
    "    df[f'out_{i}'] = df['consumption_kw_A'].shift(-i)"
   ]
  },
  {
   "cell_type": "code",
   "execution_count": 26,
   "metadata": {},
   "outputs": [],
   "source": [
    "# df.tail(20)"
   ]
  },
  {
   "cell_type": "code",
   "execution_count": 27,
   "metadata": {},
   "outputs": [],
   "source": [
    "df.set_index('date_time',inplace=True)"
   ]
  },
  {
   "cell_type": "code",
   "execution_count": 28,
   "metadata": {},
   "outputs": [],
   "source": [
    "df = df.drop('consumption_kw_A',axis=1)"
   ]
  },
  {
   "cell_type": "code",
   "execution_count": 29,
   "metadata": {},
   "outputs": [],
   "source": [
    "train = df.head(len(df)-15)\n",
    "test = df.tail(15).head(1)"
   ]
  },
  {
   "cell_type": "code",
   "execution_count": null,
   "metadata": {},
   "outputs": [],
   "source": []
  },
  {
   "cell_type": "code",
   "execution_count": 30,
   "metadata": {},
   "outputs": [
    {
     "data": {
      "text/plain": [
       "<matplotlib.axes._subplots.AxesSubplot at 0x1816d799eb0>"
      ]
     },
     "execution_count": 30,
     "metadata": {},
     "output_type": "execute_result"
    },
    {
     "data": {
      "image/png": "[encoded data removed]",
      "text/plain": [
       "<Figure size 432x288 with 1 Axes>"
      ]
     },
     "metadata": {
      "needs_background": "light"
     },
     "output_type": "display_data"
    }
   ],
   "source": [
    "train.sample(5).T.plot()"
   ]
  },
  {
   "cell_type": "code",
   "execution_count": 31,
   "metadata": {},
   "outputs": [
    {
     "name": "stdout",
     "output_type": "stream",
     "text": [
      "(777, 5)\n",
      "(773, 5)\n"
     ]
    },
    {
     "name": "stderr",
     "output_type": "stream",
     "text": [
      "<ipython-input-31-efbcb93d7c03>:2: SettingWithCopyWarning: \n",
      "A value is trying to be set on a copy of a slice from a DataFrame\n",
      "\n",
      "See the caveats in the documentation: https://pandas.pydata.org/pandas-docs/stable/user_guide/indexing.html#returning-a-view-versus-a-copy\n",
      "  train.dropna(axis=0, inplace=True)\n"
     ]
    }
   ],
   "source": [
    "print (train.shape)\n",
    "train.dropna(axis=0, inplace=True)\n",
    "print (train.shape)"
   ]
  },
  {
   "cell_type": "code",
   "execution_count": 32,
   "metadata": {},
   "outputs": [],
   "source": [
    "trainX = train[[x for x in list(train) if 'lag' in x]]\n",
    "trainY = train[[x for x in list(train) if 'out' in x]]\n",
    "testX = test[[x for x in list(train) if 'lag' in x]]\n",
    "testY = test[[x for x in list(train) if 'out' in x]]"
   ]
  },
  {
   "cell_type": "code",
   "execution_count": null,
   "metadata": {},
   "outputs": [],
   "source": []
  },
  {
   "cell_type": "markdown",
   "metadata": {},
   "source": [
    "### Model Training"
   ]
  },
  {
   "cell_type": "code",
   "execution_count": 33,
   "metadata": {},
   "outputs": [
    {
     "data": {
      "text/plain": [
       "LinearRegression()"
      ]
     },
     "execution_count": 33,
     "metadata": {},
     "output_type": "execute_result"
    }
   ],
   "source": [
    "from sklearn.linear_model import LinearRegression\n",
    "lr = LinearRegression()\n",
    "lr.fit(trainX, trainY)"
   ]
  },
  {
   "cell_type": "code",
   "execution_count": null,
   "metadata": {},
   "outputs": [],
   "source": []
  },
  {
   "cell_type": "markdown",
   "metadata": {},
   "source": [
    "### Model Prediction"
   ]
  },
  {
   "cell_type": "code",
   "execution_count": 34,
   "metadata": {},
   "outputs": [],
   "source": [
    "preds = lr.predict(testX)"
   ]
  },
  {
   "cell_type": "code",
   "execution_count": 35,
   "metadata": {},
   "outputs": [],
   "source": [
    "preds = pd.DataFrame(preds)"
   ]
  },
  {
   "cell_type": "code",
   "execution_count": 36,
   "metadata": {},
   "outputs": [
    {
     "data": {
      "text/plain": [
       "[26.80092152]"
      ]
     },
     "execution_count": 36,
     "metadata": {},
     "output_type": "execute_result"
    }
   ],
   "source": [
    "list(testY.values[0])"
   ]
  },
  {
   "cell_type": "code",
   "execution_count": 37,
   "metadata": {},
   "outputs": [
    {
     "data": {
      "text/plain": [
       "[28.437331941179018]"
      ]
     },
     "execution_count": 37,
     "metadata": {},
     "output_type": "execute_result"
    }
   ],
   "source": [
    "list(preds.values[0])"
   ]
  },
  {
   "cell_type": "code",
   "execution_count": null,
   "metadata": {},
   "outputs": [],
   "source": []
  },
  {
   "cell_type": "markdown",
   "metadata": {},
   "source": [
    "### MAPE and MAE"
   ]
  },
  {
   "cell_type": "code",
   "execution_count": 38,
   "metadata": {},
   "outputs": [],
   "source": [
    "import numpy as np"
   ]
  },
  {
   "cell_type": "code",
   "execution_count": 39,
   "metadata": {},
   "outputs": [],
   "source": [
    "def smape(a, f):\n",
    "    return 1/len(a) * np.sum(2 * np.abs(f-a) / (np.abs(a) + np.abs(f))*100)"
   ]
  },
  {
   "cell_type": "code",
   "execution_count": null,
   "metadata": {},
   "outputs": [],
   "source": []
  },
  {
   "cell_type": "code",
   "execution_count": 40,
   "metadata": {},
   "outputs": [],
   "source": [
    "from sklearn.metrics import mean_squared_error, mean_absolute_percentage_error, mean_absolute_error"
   ]
  },
  {
   "cell_type": "code",
   "execution_count": 41,
   "metadata": {},
   "outputs": [],
   "source": [
    "def report_metrics(true,predictions):\n",
    "    print (f\" p: {p}\\\n",
    "              h: {h}\\\n",
    "              MAPE: {mean_absolute_percentage_error(true,predictions)}\\\n",
    "              MAE: {mean_absolute_error(true,predictions)}\")"
   ]
  },
  {
   "cell_type": "code",
   "execution_count": 42,
   "metadata": {},
   "outputs": [
    {
     "name": "stdout",
     "output_type": "stream",
     "text": [
      " p: 4              h: 1              MAPE: 0.06105799085892844              MAE: 1.6364104211790185\n"
     ]
    }
   ],
   "source": [
    "report_metrics  (testY, preds)"
   ]
  },
  {
   "cell_type": "code",
   "execution_count": null,
   "metadata": {},
   "outputs": [],
   "source": []
  },
  {
   "cell_type": "markdown",
   "metadata": {},
   "source": [
    "## T1.4 Naive Approach"
   ]
  },
  {
   "cell_type": "code",
   "execution_count": null,
   "metadata": {},
   "outputs": [],
   "source": []
  },
  {
   "cell_type": "code",
   "execution_count": 144,
   "metadata": {},
   "outputs": [],
   "source": [
    "train = df_house_A_train"
   ]
  },
  {
   "cell_type": "code",
   "execution_count": 145,
   "metadata": {},
   "outputs": [],
   "source": [
    "dd= np.asarray(train.consumption_kw_A)"
   ]
  },
  {
   "cell_type": "code",
   "execution_count": 146,
   "metadata": {},
   "outputs": [],
   "source": [
    "test = df_house_A_test"
   ]
  },
  {
   "cell_type": "code",
   "execution_count": 147,
   "metadata": {},
   "outputs": [],
   "source": [
    "y_hat = test.copy()"
   ]
  },
  {
   "cell_type": "code",
   "execution_count": 148,
   "metadata": {},
   "outputs": [],
   "source": [
    "y_hat['naive'] = dd[len(dd)-1]"
   ]
  },
  {
   "cell_type": "code",
   "execution_count": 149,
   "metadata": {},
   "outputs": [
    {
     "data": {
      "text/html": [
       "<div>\n",
       "<style scoped>\n",
       "    .dataframe tbody tr th:only-of-type {\n",
       "        vertical-align: middle;\n",
       "    }\n",
       "\n",
       "    .dataframe tbody tr th {\n",
       "        vertical-align: top;\n",
       "    }\n",
       "\n",
       "    .dataframe thead th {\n",
       "        text-align: right;\n",
       "    }\n",
       "</style>\n",
       "<table border=\"1\" class=\"dataframe\">\n",
       "  <thead>\n",
       "    <tr style=\"text-align: right;\">\n",
       "      <th></th>\n",
       "      <th>date_time</th>\n",
       "      <th>consumption_kw_A</th>\n",
       "      <th>naive</th>\n",
       "    </tr>\n",
       "  </thead>\n",
       "  <tbody>\n",
       "    <tr>\n",
       "      <th>48</th>\n",
       "      <td>2021-12-01 01:00:00</td>\n",
       "      <td>23.675968</td>\n",
       "      <td>22.492288</td>\n",
       "    </tr>\n",
       "    <tr>\n",
       "      <th>49</th>\n",
       "      <td>2021-12-01 02:00:00</td>\n",
       "      <td>25.239773</td>\n",
       "      <td>22.492288</td>\n",
       "    </tr>\n",
       "    <tr>\n",
       "      <th>50</th>\n",
       "      <td>2021-12-01 03:00:00</td>\n",
       "      <td>26.844480</td>\n",
       "      <td>22.492288</td>\n",
       "    </tr>\n",
       "    <tr>\n",
       "      <th>51</th>\n",
       "      <td>2021-12-01 04:00:00</td>\n",
       "      <td>28.815815</td>\n",
       "      <td>22.492288</td>\n",
       "    </tr>\n",
       "    <tr>\n",
       "      <th>52</th>\n",
       "      <td>2021-12-01 05:00:00</td>\n",
       "      <td>30.333043</td>\n",
       "      <td>22.492288</td>\n",
       "    </tr>\n",
       "    <tr>\n",
       "      <th>...</th>\n",
       "      <td>...</td>\n",
       "      <td>...</td>\n",
       "      <td>...</td>\n",
       "    </tr>\n",
       "    <tr>\n",
       "      <th>787</th>\n",
       "      <td>2021-12-31 20:00:00</td>\n",
       "      <td>23.850543</td>\n",
       "      <td>22.492288</td>\n",
       "    </tr>\n",
       "    <tr>\n",
       "      <th>788</th>\n",
       "      <td>2021-12-31 21:00:00</td>\n",
       "      <td>23.654771</td>\n",
       "      <td>22.492288</td>\n",
       "    </tr>\n",
       "    <tr>\n",
       "      <th>789</th>\n",
       "      <td>2021-12-31 22:00:00</td>\n",
       "      <td>22.806547</td>\n",
       "      <td>22.492288</td>\n",
       "    </tr>\n",
       "    <tr>\n",
       "      <th>790</th>\n",
       "      <td>2021-12-31 23:00:00</td>\n",
       "      <td>21.532958</td>\n",
       "      <td>22.492288</td>\n",
       "    </tr>\n",
       "    <tr>\n",
       "      <th>791</th>\n",
       "      <td>2022-01-01 00:00:00</td>\n",
       "      <td>20.632155</td>\n",
       "      <td>22.492288</td>\n",
       "    </tr>\n",
       "  </tbody>\n",
       "</table>\n",
       "<p>744 rows × 3 columns</p>\n",
       "</div>"
      ],
      "text/plain": [
       "              date_time  consumption_kw_A      naive\n",
       "48  2021-12-01 01:00:00         23.675968  22.492288\n",
       "49  2021-12-01 02:00:00         25.239773  22.492288\n",
       "50  2021-12-01 03:00:00         26.844480  22.492288\n",
       "51  2021-12-01 04:00:00         28.815815  22.492288\n",
       "52  2021-12-01 05:00:00         30.333043  22.492288\n",
       "..                  ...               ...        ...\n",
       "787 2021-12-31 20:00:00         23.850543  22.492288\n",
       "788 2021-12-31 21:00:00         23.654771  22.492288\n",
       "789 2021-12-31 22:00:00         22.806547  22.492288\n",
       "790 2021-12-31 23:00:00         21.532958  22.492288\n",
       "791 2022-01-01 00:00:00         20.632155  22.492288\n",
       "\n",
       "[744 rows x 3 columns]"
      ]
     },
     "execution_count": 149,
     "metadata": {},
     "output_type": "execute_result"
    }
   ],
   "source": [
    "y_hat"
   ]
  },
  {
   "cell_type": "code",
   "execution_count": null,
   "metadata": {},
   "outputs": [],
   "source": []
  },
  {
   "cell_type": "code",
   "execution_count": 150,
   "metadata": {},
   "outputs": [],
   "source": [
    "import matplotlib.pyplot as plt "
   ]
  },
  {
   "cell_type": "code",
   "execution_count": 151,
   "metadata": {},
   "outputs": [
    {
     "data": {
      "image/png": "[encoded data removed]",
      "text/plain": [
       "<Figure size 864x576 with 1 Axes>"
      ]
     },
     "metadata": {
      "needs_background": "light"
     },
     "output_type": "display_data"
    }
   ],
   "source": [
    "plt.figure(figsize=(12,8))\n",
    "plt.plot(train.index, train.consumption_kw_A, label='Train')\n",
    "plt.plot(test.index,test.consumption_kw_A, label='Test')\n",
    "plt.plot(y_hat.index,y_hat['naive'], label='Naive Forecast')\n",
    "plt.legend(loc='best')\n",
    "plt.title(\"Naive Forecast\")\n",
    "plt.show()"
   ]
  },
  {
   "cell_type": "code",
   "execution_count": null,
   "metadata": {},
   "outputs": [],
   "source": []
  },
  {
   "cell_type": "markdown",
   "metadata": {},
   "source": [
    "### MAPE and MAE"
   ]
  },
  {
   "cell_type": "code",
   "execution_count": 152,
   "metadata": {},
   "outputs": [],
   "source": [
    "import numpy as np"
   ]
  },
  {
   "cell_type": "code",
   "execution_count": 153,
   "metadata": {},
   "outputs": [],
   "source": [
    "def smape(a, f):\n",
    "    return 1/len(a) * np.sum(2 * np.abs(f-a) / (np.abs(a) + np.abs(f))*100)"
   ]
  },
  {
   "cell_type": "code",
   "execution_count": null,
   "metadata": {},
   "outputs": [],
   "source": []
  },
  {
   "cell_type": "code",
   "execution_count": 154,
   "metadata": {},
   "outputs": [],
   "source": [
    "from sklearn.metrics import mean_squared_error, mean_absolute_percentage_error, mean_absolute_error"
   ]
  },
  {
   "cell_type": "code",
   "execution_count": 155,
   "metadata": {},
   "outputs": [],
   "source": [
    "def report_metrics(true,predictions):\n",
    "    print (f\" MAPE: {mean_absolute_percentage_error(true,predictions)}\\\n",
    "              MAE: {mean_absolute_error(true,predictions)}\")"
   ]
  },
  {
   "cell_type": "code",
   "execution_count": 156,
   "metadata": {},
   "outputs": [
    {
     "name": "stdout",
     "output_type": "stream",
     "text": [
      " MAPE: 0.26793985665006614              MAE: 7.893669610294355\n"
     ]
    }
   ],
   "source": [
    "report_metrics  (test.consumption_kw_A, y_hat.naive)"
   ]
  },
  {
   "cell_type": "code",
   "execution_count": null,
   "metadata": {},
   "outputs": [],
   "source": []
  },
  {
   "cell_type": "markdown",
   "metadata": {},
   "source": [
    "## T1.5 ARIMA Model"
   ]
  },
  {
   "cell_type": "code",
   "execution_count": 142,
   "metadata": {},
   "outputs": [],
   "source": [
    "train = df_house_A_train['consumption_kw_A']"
   ]
  },
  {
   "cell_type": "code",
   "execution_count": 143,
   "metadata": {},
   "outputs": [],
   "source": [
    "test = df_house_A_test['consumption_kw_A']"
   ]
  },
  {
   "cell_type": "code",
   "execution_count": null,
   "metadata": {},
   "outputs": [],
   "source": []
  },
  {
   "cell_type": "code",
   "execution_count": 144,
   "metadata": {},
   "outputs": [],
   "source": [
    "from statsmodels.tsa.arima.model import ARIMA\n",
    "model = ARIMA(train,order = (3,1,2))"
   ]
  },
  {
   "cell_type": "code",
   "execution_count": 145,
   "metadata": {},
   "outputs": [
    {
     "name": "stderr",
     "output_type": "stream",
     "text": [
      "C:\\Users\\Admin\\anaconda3\\lib\\site-packages\\statsmodels\\base\\model.py:566: ConvergenceWarning: Maximum Likelihood optimization failed to converge. Check mle_retvals\n",
      "  warnings.warn(\"Maximum Likelihood optimization failed to \"\n"
     ]
    }
   ],
   "source": [
    "model_fitted = model.fit()"
   ]
  },
  {
   "cell_type": "code",
   "execution_count": 146,
   "metadata": {},
   "outputs": [],
   "source": [
    "preds = model_fitted.forecast(len(test))"
   ]
  },
  {
   "cell_type": "code",
   "execution_count": 147,
   "metadata": {},
   "outputs": [],
   "source": [
    "result = preds.reset_index(drop = True)"
   ]
  },
  {
   "cell_type": "code",
   "execution_count": null,
   "metadata": {},
   "outputs": [],
   "source": []
  },
  {
   "cell_type": "markdown",
   "metadata": {},
   "source": [
    "### MAPE and MAE"
   ]
  },
  {
   "cell_type": "code",
   "execution_count": 148,
   "metadata": {},
   "outputs": [],
   "source": [
    "import numpy as np"
   ]
  },
  {
   "cell_type": "code",
   "execution_count": 149,
   "metadata": {},
   "outputs": [],
   "source": [
    "def smape(a, f):\n",
    "    return 1/len(a) * np.sum(2 * np.abs(f-a) / (np.abs(a) + np.abs(f))*100)"
   ]
  },
  {
   "cell_type": "code",
   "execution_count": null,
   "metadata": {},
   "outputs": [],
   "source": []
  },
  {
   "cell_type": "code",
   "execution_count": 150,
   "metadata": {},
   "outputs": [],
   "source": [
    "from sklearn.metrics import mean_squared_error, mean_absolute_percentage_error, mean_absolute_error"
   ]
  },
  {
   "cell_type": "code",
   "execution_count": 151,
   "metadata": {},
   "outputs": [],
   "source": [
    "def report_metrics(true,predictions):\n",
    "    print (f\" MAPE: {mean_absolute_percentage_error(true,predictions)}\\\n",
    "              MAE: {mean_absolute_error(true,predictions)}\")"
   ]
  },
  {
   "cell_type": "code",
   "execution_count": 152,
   "metadata": {},
   "outputs": [
    {
     "name": "stdout",
     "output_type": "stream",
     "text": [
      " MAPE: 0.2606731166683318              MAE: 7.5781299409779574\n"
     ]
    }
   ],
   "source": [
    "report_metrics  (test, result)"
   ]
  },
  {
   "cell_type": "code",
   "execution_count": null,
   "metadata": {},
   "outputs": [],
   "source": []
  }
 ],
 "metadata": {
  "kernelspec": {
   "display_name": "Python 3 (ipykernel)",
   "language": "python",
   "name": "python3"
  },
  "language_info": {
   "codemirror_mode": {
    "name": "ipython",
    "version": 3
   },
   "file_extension": ".py",
   "mimetype": "text/x-python",
   "name": "python",
   "nbconvert_exporter": "python",
   "pygments_lexer": "ipython3",
   "version": "3.9.7"
  }
 },
 "nbformat": 4,
 "nbformat_minor": 4
}
